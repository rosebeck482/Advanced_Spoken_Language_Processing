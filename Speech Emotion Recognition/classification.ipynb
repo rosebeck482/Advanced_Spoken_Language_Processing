{
 "cells": [
  {
   "cell_type": "code",
   "execution_count": 1,
   "metadata": {
    "colab": {
     "base_uri": "https://localhost:8080/"
    },
    "id": "QVBhMEJ6Y3ZK",
    "outputId": "99544f88-8a89-4736-84c3-434b94ff6bbe"
   },
   "outputs": [
    {
     "name": "stdout",
     "output_type": "stream",
     "text": [
      "Mounted at /content/drive\n"
     ]
    }
   ],
   "source": [
    "from google.colab import drive\n",
    "drive.mount(\"/content/drive\", force_remount=True)"
   ]
  },
  {
   "cell_type": "code",
   "execution_count": 2,
   "metadata": {
    "colab": {
     "base_uri": "https://localhost:8080/"
    },
    "id": "qNRPbuaCZcQd",
    "outputId": "691c6760-3aaf-4289-aad6-06bb2bb76e1b"
   },
   "outputs": [
    {
     "name": "stdout",
     "output_type": "stream",
     "text": [
      "Cloning into 'opensmile'...\n",
      "remote: Enumerating objects: 1830, done.\u001b[K\n",
      "remote: Counting objects: 100% (37/37), done.\u001b[K\n",
      "remote: Compressing objects: 100% (22/22), done.\u001b[K\n",
      "remote: Total 1830 (delta 19), reused 15 (delta 15), pack-reused 1793 (from 2)\u001b[K\n",
      "Receiving objects: 100% (1830/1830), 10.78 MiB | 24.80 MiB/s, done.\n",
      "Resolving deltas: 100% (693/693), done.\n"
     ]
    }
   ],
   "source": [
    "!git clone https://github.com/audeering/opensmile.git\n"
   ]
  },
  {
   "cell_type": "code",
   "execution_count": 3,
   "metadata": {
    "colab": {
     "base_uri": "https://localhost:8080/"
    },
    "id": "oFwPjywGZjNx",
    "outputId": "49424745-66b0-466b-f4f0-9b6ace3338a0"
   },
   "outputs": [
    {
     "name": "stdout",
     "output_type": "stream",
     "text": [
      "/content/opensmile\n"
     ]
    }
   ],
   "source": [
    "%cd /content/opensmile"
   ]
  },
  {
   "cell_type": "code",
   "execution_count": 4,
   "metadata": {
    "colab": {
     "base_uri": "https://localhost:8080/"
    },
    "id": "g0ECkKpjZqa8",
    "outputId": "893dd32d-3b71-4f71-d067-b35fc8e06e59"
   },
   "outputs": [
    {
     "name": "stdout",
     "output_type": "stream",
     "text": [
      "\u001b[0m\u001b[01;32mbuildAndroid.sh\u001b[0m*         \u001b[01;32mbuild.sh\u001b[0m*       \u001b[01;34mdoc\u001b[0m/             \u001b[01;34mplugindev\u001b[0m/\n",
      "build_flags.ps1          CHANGELOG.md    \u001b[01;34mexample-audio\u001b[0m/   \u001b[01;34mprogsrc\u001b[0m/\n",
      "build_flags.sh           \u001b[01;34mcmake\u001b[0m/          \u001b[01;34mgradle\u001b[0m/          README.md\n",
      "buildIos.sh              CMakeLists.txt  LICENSE          \u001b[01;34mscripts\u001b[0m/\n",
      "buildIosUniversalLib.sh  conanfile.py    \u001b[01;34mlicenses\u001b[0m/        \u001b[01;34msrc\u001b[0m/\n",
      "build.ps1                \u001b[01;34mconfig\u001b[0m/         make_release.sh  \u001b[01;34mtest_package\u001b[0m/\n"
     ]
    }
   ],
   "source": [
    "ls"
   ]
  },
  {
   "cell_type": "code",
   "execution_count": 5,
   "metadata": {
    "colab": {
     "base_uri": "https://localhost:8080/"
    },
    "id": "fMXAN-25Zoal",
    "outputId": "356b48d3-0edc-4406-d298-bbff408d4e94"
   },
   "outputs": [
    {
     "name": "stdout",
     "output_type": "stream",
     "text": [
      "\u001b[0mCMake Deprecation Warning at CMakeLists.txt:1 (cmake_minimum_required):\n",
      "  Compatibility with CMake < 3.10 will be removed from a future version of\n",
      "  CMake.\n",
      "\n",
      "  Update the VERSION argument <min> value.  Or, use the <min>...<max> syntax\n",
      "  to tell CMake that the project requires at least <min> but has been updated\n",
      "  to work with policies introduced by <max> or earlier.\n",
      "\n",
      "\u001b[0m\n",
      "-- The C compiler identification is GNU 11.4.0\n",
      "-- The CXX compiler identification is GNU 11.4.0\n",
      "-- Detecting C compiler ABI info\n",
      "-- Detecting C compiler ABI info - done\n",
      "-- Check for working C compiler: /usr/bin/cc - skipped\n",
      "-- Detecting C compile features\n",
      "-- Detecting C compile features - done\n",
      "-- Detecting CXX compiler ABI info\n",
      "-- Detecting CXX compiler ABI info - done\n",
      "-- Check for working CXX compiler: /usr/bin/c++ - skipped\n",
      "-- Detecting CXX compile features\n",
      "-- Detecting CXX compile features - done\n",
      "-- Found Git: /usr/bin/git (found version \"2.34.1\")\n",
      "\u001b[0mCMake Deprecation Warning at src/newmat/CMakeLists.txt:2 (cmake_minimum_required):\n",
      "  Compatibility with CMake < 3.10 will be removed from a future version of\n",
      "  CMake.\n",
      "\n",
      "  Update the VERSION argument <min> value.  Or, use the <min>...<max> syntax\n",
      "  to tell CMake that the project requires at least <min> but has been updated\n",
      "  to work with policies introduced by <max> or earlier.\n",
      "\n",
      "\u001b[0m\n",
      "\u001b[0mCMake Deprecation Warning at progsrc/smileapi/CMakeLists.txt:2 (cmake_minimum_required):\n",
      "  Compatibility with CMake < 3.10 will be removed from a future version of\n",
      "  CMake.\n",
      "\n",
      "  Update the VERSION argument <min> value.  Or, use the <min>...<max> syntax\n",
      "  to tell CMake that the project requires at least <min> but has been updated\n",
      "  to work with policies introduced by <max> or earlier.\n",
      "\n",
      "\u001b[0m\n",
      "\u001b[0mCMake Deprecation Warning at progsrc/smilextract/CMakeLists.txt:2 (cmake_minimum_required):\n",
      "  Compatibility with CMake < 3.10 will be removed from a future version of\n",
      "  CMake.\n",
      "\n",
      "  Update the VERSION argument <min> value.  Or, use the <min>...<max> syntax\n",
      "  to tell CMake that the project requires at least <min> but has been updated\n",
      "  to work with policies introduced by <max> or earlier.\n",
      "\n",
      "\u001b[0m\n",
      "-- Performing Test CMAKE_HAVE_LIBC_PTHREAD\n",
      "-- Performing Test CMAKE_HAVE_LIBC_PTHREAD - Success\n",
      "-- Found Threads: TRUE\n",
      "-- Configuring done (0.9s)\n",
      "-- Generating done (0.0s)\n",
      "-- Build files have been written to: /content/opensmile/build\n",
      "[  1%] \u001b[32mBuilding CXX object src/newmat/CMakeFiles/newmat.dir/bandmat.cpp.o\u001b[0m\n",
      "[  1%] \u001b[32mBuilding CXX object src/newmat/CMakeFiles/newmat.dir/cholesky.cpp.o\u001b[0m\n",
      "[  2%] \u001b[32mBuilding CXX object src/newmat/CMakeFiles/newmat.dir/evalue.cpp.o\u001b[0m\n",
      "[  3%] \u001b[32mBuilding CXX object src/newmat/CMakeFiles/newmat.dir/fft.cpp.o\u001b[0m\n",
      "[  3%] \u001b[32mBuilding CXX object src/newmat/CMakeFiles/newmat.dir/hholder.cpp.o\u001b[0m\n",
      "[  4%] \u001b[32mBuilding CXX object src/newmat/CMakeFiles/newmat.dir/jacobi.cpp.o\u001b[0m\n",
      "[  4%] \u001b[32mBuilding CXX object src/newmat/CMakeFiles/newmat.dir/newfft.cpp.o\u001b[0m\n",
      "[  5%] \u001b[32mBuilding CXX object src/newmat/CMakeFiles/newmat.dir/myexcept.cpp.o\u001b[0m\n",
      "[  6%] \u001b[32mBuilding CXX object src/newmat/CMakeFiles/newmat.dir/newmat1.cpp.o\u001b[0m\n",
      "[  6%] \u001b[32mBuilding CXX object src/newmat/CMakeFiles/newmat.dir/newmat2.cpp.o\u001b[0m\n",
      "[  7%] \u001b[32mBuilding CXX object src/newmat/CMakeFiles/newmat.dir/newmat3.cpp.o\u001b[0m\n",
      "[  8%] \u001b[32mBuilding CXX object src/newmat/CMakeFiles/newmat.dir/newmat4.cpp.o\u001b[0m\n",
      "[  8%] \u001b[32mBuilding CXX object src/newmat/CMakeFiles/newmat.dir/newmat5.cpp.o\u001b[0m\n",
      "[  9%] \u001b[32mBuilding CXX object src/newmat/CMakeFiles/newmat.dir/newmat6.cpp.o\u001b[0m\n",
      "[ 10%] \u001b[32mBuilding CXX object src/newmat/CMakeFiles/newmat.dir/newmat7.cpp.o\u001b[0m\n",
      "[ 10%] \u001b[32mBuilding CXX object src/newmat/CMakeFiles/newmat.dir/newmat8.cpp.o\u001b[0m\n",
      "[ 11%] \u001b[32mBuilding CXX object src/newmat/CMakeFiles/newmat.dir/newmat9.cpp.o\u001b[0m\n",
      "[ 12%] \u001b[32mBuilding CXX object src/newmat/CMakeFiles/newmat.dir/newmatex.cpp.o\u001b[0m\n",
      "[ 12%] \u001b[32mBuilding CXX object src/newmat/CMakeFiles/newmat.dir/newmatnl.cpp.o\u001b[0m\n",
      "[ 13%] \u001b[32mBuilding CXX object src/newmat/CMakeFiles/newmat.dir/newmatrm.cpp.o\u001b[0m\n",
      "[ 14%] \u001b[32mBuilding CXX object src/newmat/CMakeFiles/newmat.dir/solution.cpp.o\u001b[0m\n",
      "[ 14%] \u001b[32mBuilding CXX object src/newmat/CMakeFiles/newmat.dir/sort.cpp.o\u001b[0m\n",
      "[ 15%] \u001b[32mBuilding CXX object src/newmat/CMakeFiles/newmat.dir/submat.cpp.o\u001b[0m\n",
      "[ 15%] \u001b[32mBuilding CXX object src/newmat/CMakeFiles/newmat.dir/svd.cpp.o\u001b[0m\n",
      "[ 15%] Built target newmat\n",
      "[ 17%] \u001b[32mBuilding CXX object CMakeFiles/opensmile.dir/src/classifiers/libsvmliveSink.cpp.o\u001b[0m\n",
      "[ 17%] \u001b[32mBuilding CXX object CMakeFiles/opensmile.dir/src/classifiers/libsvm/svm.cpp.o\u001b[0m\n",
      "[ 18%] \u001b[32mBuilding CXX object CMakeFiles/opensmile.dir/src/core/commandlineParser.cpp.o\u001b[0m\n",
      "[ 18%] \u001b[32mBuilding CXX object CMakeFiles/opensmile.dir/src/classifiers/svmSink.cpp.o\u001b[0m\n",
      "[ 19%] \u001b[32mBuilding CXX object CMakeFiles/opensmile.dir/src/core/componentManager.cpp.o\u001b[0m\n",
      "[ 19%] \u001b[32mBuilding CXX object CMakeFiles/opensmile.dir/src/core/configManager.cpp.o\u001b[0m\n",
      "[ 20%] \u001b[32mBuilding CXX object CMakeFiles/opensmile.dir/src/core/dataMemory.cpp.o\u001b[0m\n",
      "[ 21%] \u001b[32mBuilding CXX object CMakeFiles/opensmile.dir/src/core/dataMemoryLevel.cpp.o\u001b[0m\n",
      "[ 21%] \u001b[32mBuilding CXX object CMakeFiles/opensmile.dir/src/core/dataProcessor.cpp.o\u001b[0m\n",
      "[ 22%] \u001b[32mBuilding CXX object CMakeFiles/opensmile.dir/src/core/dataReader.cpp.o\u001b[0m\n",
      "[ 23%] \u001b[32mBuilding CXX object CMakeFiles/opensmile.dir/src/core/dataSelector.cpp.o\u001b[0m\n",
      "[ 23%] \u001b[32mBuilding CXX object CMakeFiles/opensmile.dir/src/core/dataSink.cpp.o\u001b[0m\n",
      "[ 24%] \u001b[32mBuilding CXX object CMakeFiles/opensmile.dir/src/core/dataSource.cpp.o\u001b[0m\n",
      "[ 24%] \u001b[32mBuilding CXX object CMakeFiles/opensmile.dir/src/core/dataWriter.cpp.o\u001b[0m\n",
      "[ 25%] \u001b[32mBuilding CXX object CMakeFiles/opensmile.dir/src/core/exceptions.cpp.o\u001b[0m\n",
      "[ 26%] \u001b[32mBuilding CXX object CMakeFiles/opensmile.dir/src/core/nullSink.cpp.o\u001b[0m\n",
      "[ 26%] \u001b[32mBuilding CXX object CMakeFiles/opensmile.dir/src/core/smileCommon.cpp.o\u001b[0m\n",
      "[ 27%] \u001b[32mBuilding CXX object CMakeFiles/opensmile.dir/src/core/smileComponent.cpp.o\u001b[0m\n",
      "[ 28%] \u001b[32mBuilding CXX object CMakeFiles/opensmile.dir/src/core/smileLogger.cpp.o\u001b[0m\n",
      "[ 28%] \u001b[32mBuilding CXX object CMakeFiles/opensmile.dir/src/core/smileThread.cpp.o\u001b[0m\n",
      "[ 29%] \u001b[32mBuilding CXX object CMakeFiles/opensmile.dir/src/core/vecToWinProcessor.cpp.o\u001b[0m\n",
      "[ 30%] \u001b[32mBuilding CXX object CMakeFiles/opensmile.dir/src/core/vectorProcessor.cpp.o\u001b[0m\n",
      "[ 30%] \u001b[32mBuilding CXX object CMakeFiles/opensmile.dir/src/core/vectorTransform.cpp.o\u001b[0m\n",
      "[ 31%] \u001b[32mBuilding CXX object CMakeFiles/opensmile.dir/src/core/winToVecProcessor.cpp.o\u001b[0m\n",
      "[ 31%] \u001b[32mBuilding CXX object CMakeFiles/opensmile.dir/src/core/windowProcessor.cpp.o\u001b[0m\n",
      "[ 32%] \u001b[32mBuilding CXX object CMakeFiles/opensmile.dir/src/dsp/dbA.cpp.o\u001b[0m\n",
      "[ 33%] \u001b[32mBuilding CXX object CMakeFiles/opensmile.dir/src/dsp/signalGenerator.cpp.o\u001b[0m\n",
      "[ 33%] \u001b[32mBuilding CXX object CMakeFiles/opensmile.dir/src/dsp/smileResample.cpp.o\u001b[0m\n",
      "[ 34%] \u001b[32mBuilding CXX object CMakeFiles/opensmile.dir/src/dsp/specResample.cpp.o\u001b[0m\n",
      "[ 35%] \u001b[32mBuilding CXX object CMakeFiles/opensmile.dir/src/dsp/vadV1.cpp.o\u001b[0m\n",
      "[ 35%] \u001b[32mBuilding CXX object CMakeFiles/opensmile.dir/src/dsp/specScale.cpp.o\u001b[0m\n",
      "[ 36%] \u001b[32mBuilding CXX object CMakeFiles/opensmile.dir/src/dspcore/acf.cpp.o\u001b[0m\n",
      "[ 37%] \u001b[32mBuilding CXX object CMakeFiles/opensmile.dir/src/dspcore/amdf.cpp.o\u001b[0m\n",
      "[ 37%] \u001b[32mBuilding CXX object CMakeFiles/opensmile.dir/src/dspcore/contourSmoother.cpp.o\u001b[0m\n",
      "[ 38%] \u001b[32mBuilding CXX object CMakeFiles/opensmile.dir/src/dspcore/deltaRegression.cpp.o\u001b[0m\n",
      "[ 39%] \u001b[32mBuilding CXX object CMakeFiles/opensmile.dir/src/dspcore/fftmagphase.cpp.o\u001b[0m\n",
      "[ 39%] \u001b[32mBuilding C object CMakeFiles/opensmile.dir/src/dspcore/fftsg.c.o\u001b[0m\n",
      "[ 40%] \u001b[32mBuilding CXX object CMakeFiles/opensmile.dir/src/dspcore/framer.cpp.o\u001b[0m\n",
      "[ 40%] \u001b[32mBuilding CXX object CMakeFiles/opensmile.dir/src/dspcore/fullinputMean.cpp.o\u001b[0m\n",
      "[ 41%] \u001b[32mBuilding CXX object CMakeFiles/opensmile.dir/src/dspcore/fullturnMean.cpp.o\u001b[0m\n",
      "[ 42%] \u001b[32mBuilding CXX object CMakeFiles/opensmile.dir/src/dspcore/monoMixdown.cpp.o\u001b[0m\n",
      "[ 42%] \u001b[32mBuilding CXX object CMakeFiles/opensmile.dir/src/dspcore/preemphasis.cpp.o\u001b[0m\n",
      "[ 43%] \u001b[32mBuilding CXX object CMakeFiles/opensmile.dir/src/dspcore/transformFft.cpp.o\u001b[0m\n",
      "[ 44%] \u001b[32mBuilding CXX object CMakeFiles/opensmile.dir/src/dspcore/turnDetector.cpp.o\u001b[0m\n",
      "[ 44%] \u001b[32mBuilding CXX object CMakeFiles/opensmile.dir/src/dspcore/vectorMVN.cpp.o\u001b[0m\n",
      "[ 45%] \u001b[32mBuilding CXX object CMakeFiles/opensmile.dir/src/dspcore/vectorPreemphasis.cpp.o\u001b[0m\n",
      "[ 46%] \u001b[32mBuilding CXX object CMakeFiles/opensmile.dir/src/dspcore/windower.cpp.o\u001b[0m\n",
      "[ 46%] \u001b[32mBuilding CXX object CMakeFiles/opensmile.dir/src/examples/exampleSink.cpp.o\u001b[0m\n",
      "[ 47%] \u001b[32mBuilding CXX object CMakeFiles/opensmile.dir/src/examples/exampleSource.cpp.o\u001b[0m\n",
      "[ 48%] \u001b[32mBuilding CXX object CMakeFiles/opensmile.dir/src/examples/simpleMessageSender.cpp.o\u001b[0m\n",
      "[ 48%] \u001b[32mBuilding CXX object CMakeFiles/opensmile.dir/src/ffmpeg/ffmpegSource.cpp.o\u001b[0m\n",
      "[ 49%] \u001b[32mBuilding CXX object CMakeFiles/opensmile.dir/src/functionals/functionalComponent.cpp.o\u001b[0m\n",
      "[ 49%] \u001b[32mBuilding CXX object CMakeFiles/opensmile.dir/src/functionals/functionalCrossings.cpp.o\u001b[0m\n",
      "[ 50%] \u001b[32mBuilding CXX object CMakeFiles/opensmile.dir/src/functionals/functionalDCT.cpp.o\u001b[0m\n",
      "[ 51%] \u001b[32mBuilding CXX object CMakeFiles/opensmile.dir/src/functionals/functionalExtremes.cpp.o\u001b[0m\n",
      "[ 51%] \u001b[32mBuilding CXX object CMakeFiles/opensmile.dir/src/functionals/functionalLpc.cpp.o\u001b[0m\n",
      "[ 52%] \u001b[32mBuilding CXX object CMakeFiles/opensmile.dir/src/functionals/functionalMeans.cpp.o\u001b[0m\n",
      "[ 53%] \u001b[32mBuilding CXX object CMakeFiles/opensmile.dir/src/functionals/functionalMoments.cpp.o\u001b[0m\n",
      "[ 53%] \u001b[32mBuilding CXX object CMakeFiles/opensmile.dir/src/functionals/functionalOnset.cpp.o\u001b[0m\n",
      "[ 54%] \u001b[32mBuilding CXX object CMakeFiles/opensmile.dir/src/functionals/functionalPeaks.cpp.o\u001b[0m\n",
      "[ 55%] \u001b[32mBuilding CXX object CMakeFiles/opensmile.dir/src/functionals/functionalPeaks2.cpp.o\u001b[0m\n",
      "[ 55%] \u001b[32mBuilding CXX object CMakeFiles/opensmile.dir/src/functionals/functionalPercentiles.cpp.o\u001b[0m\n",
      "[ 56%] \u001b[32mBuilding CXX object CMakeFiles/opensmile.dir/src/functionals/functionalRegression.cpp.o\u001b[0m\n",
      "[ 56%] \u001b[32mBuilding CXX object CMakeFiles/opensmile.dir/src/functionals/functionalSamples.cpp.o\u001b[0m\n",
      "[ 57%] \u001b[32mBuilding CXX object CMakeFiles/opensmile.dir/src/functionals/functionalSegments.cpp.o\u001b[0m\n",
      "[ 58%] \u001b[32mBuilding CXX object CMakeFiles/opensmile.dir/src/functionals/functionalTimes.cpp.o\u001b[0m\n",
      "[ 58%] \u001b[32mBuilding CXX object CMakeFiles/opensmile.dir/src/functionals/functionalModulation.cpp.o\u001b[0m\n",
      "[ 59%] \u001b[32mBuilding CXX object CMakeFiles/opensmile.dir/src/functionals/functionals.cpp.o\u001b[0m\n",
      "[ 60%] \u001b[32mBuilding CXX object CMakeFiles/opensmile.dir/src/io/libsvmSink.cpp.o\u001b[0m\n",
      "[ 60%] \u001b[32mBuilding CXX object CMakeFiles/opensmile.dir/src/iocore/arffSink.cpp.o\u001b[0m\n",
      "[ 61%] \u001b[32mBuilding CXX object CMakeFiles/opensmile.dir/src/iocore/arffSource.cpp.o\u001b[0m\n",
      "[ 62%] \u001b[32mBuilding CXX object CMakeFiles/opensmile.dir/src/iocore/csvSink.cpp.o\u001b[0m\n",
      "[ 62%] \u001b[32mBuilding CXX object CMakeFiles/opensmile.dir/src/iocore/csvSource.cpp.o\u001b[0m\n",
      "[ 63%] \u001b[32mBuilding CXX object CMakeFiles/opensmile.dir/src/iocore/datadumpSink.cpp.o\u001b[0m\n",
      "[ 64%] \u001b[32mBuilding CXX object CMakeFiles/opensmile.dir/src/iocore/dataPrintSink.cpp.o\u001b[0m\n",
      "[ 64%] \u001b[32mBuilding CXX object CMakeFiles/opensmile.dir/src/iocore/htkSink.cpp.o\u001b[0m\n",
      "[ 65%] \u001b[32mBuilding CXX object CMakeFiles/opensmile.dir/src/iocore/htkSource.cpp.o\u001b[0m\n",
      "[ 65%] \u001b[32mBuilding CXX object CMakeFiles/opensmile.dir/src/iocore/externalSink.cpp.o\u001b[0m\n",
      "[ 66%] \u001b[32mBuilding CXX object CMakeFiles/opensmile.dir/src/iocore/externalSource.cpp.o\u001b[0m\n",
      "[ 67%] \u001b[32mBuilding CXX object CMakeFiles/opensmile.dir/src/iocore/externalAudioSource.cpp.o\u001b[0m\n",
      "[ 67%] \u001b[32mBuilding CXX object CMakeFiles/opensmile.dir/src/iocore/waveSink.cpp.o\u001b[0m\n",
      "[ 68%] \u001b[32mBuilding CXX object CMakeFiles/opensmile.dir/src/iocore/waveSinkCut.cpp.o\u001b[0m\n",
      "[ 69%] \u001b[32mBuilding CXX object CMakeFiles/opensmile.dir/src/iocore/waveSource.cpp.o\u001b[0m\n",
      "[ 69%] \u001b[32mBuilding CXX object CMakeFiles/opensmile.dir/src/lld/cens.cpp.o\u001b[0m\n",
      "[ 70%] \u001b[32mBuilding CXX object CMakeFiles/opensmile.dir/src/lld/chroma.cpp.o\u001b[0m\n",
      "[ 71%] \u001b[32mBuilding CXX object CMakeFiles/opensmile.dir/src/lld/formantLpc.cpp.o\u001b[0m\n",
      "[ 71%] \u001b[32mBuilding CXX object CMakeFiles/opensmile.dir/src/lld/formantSmoother.cpp.o\u001b[0m\n",
      "[ 72%] \u001b[32mBuilding CXX object CMakeFiles/opensmile.dir/src/lld/lpc.cpp.o\u001b[0m\n",
      "[ 73%] \u001b[32mBuilding CXX object CMakeFiles/opensmile.dir/src/lld/lsp.cpp.o\u001b[0m\n",
      "[ 73%] \u001b[32mBuilding CXX object CMakeFiles/opensmile.dir/src/lld/pitchDirection.cpp.o\u001b[0m\n",
      "[ 74%] \u001b[32mBuilding CXX object CMakeFiles/opensmile.dir/src/lld/pitchJitter.cpp.o\u001b[0m\n",
      "[ 74%] \u001b[32mBuilding CXX object CMakeFiles/opensmile.dir/src/lld/pitchShs.cpp.o\u001b[0m\n",
      "[ 75%] \u001b[32mBuilding CXX object CMakeFiles/opensmile.dir/src/lld/pitchSmootherViterbi.cpp.o\u001b[0m\n",
      "[ 76%] \u001b[32mBuilding CXX object CMakeFiles/opensmile.dir/src/lld/tonefilt.cpp.o\u001b[0m\n",
      "[ 76%] \u001b[32mBuilding CXX object CMakeFiles/opensmile.dir/src/lld/tonespec.cpp.o\u001b[0m\n",
      "[ 77%] \u001b[32mBuilding CXX object CMakeFiles/opensmile.dir/src/lld/harmonics.cpp.o\u001b[0m\n",
      "[ 78%] \u001b[32mBuilding CXX object CMakeFiles/opensmile.dir/src/lldcore/energy.cpp.o\u001b[0m\n",
      "[ 78%] \u001b[32mBuilding CXX object CMakeFiles/opensmile.dir/src/lldcore/intensity.cpp.o\u001b[0m\n",
      "[ 79%] \u001b[32mBuilding CXX object CMakeFiles/opensmile.dir/src/lldcore/melspec.cpp.o\u001b[0m\n",
      "[ 80%] \u001b[32mBuilding CXX object CMakeFiles/opensmile.dir/src/lldcore/mfcc.cpp.o\u001b[0m\n",
      "[ 80%] \u001b[32mBuilding CXX object CMakeFiles/opensmile.dir/src/lldcore/mzcr.cpp.o\u001b[0m\n",
      "[ 81%] \u001b[32mBuilding CXX object CMakeFiles/opensmile.dir/src/lldcore/pitchACF.cpp.o\u001b[0m\n",
      "[ 81%] \u001b[32mBuilding CXX object CMakeFiles/opensmile.dir/src/lldcore/pitchBase.cpp.o\u001b[0m\n",
      "[ 82%] \u001b[32mBuilding CXX object CMakeFiles/opensmile.dir/src/lldcore/pitchSmoother.cpp.o\u001b[0m\n",
      "[ 83%] \u001b[32mBuilding CXX object CMakeFiles/opensmile.dir/src/lldcore/plp.cpp.o\u001b[0m\n",
      "[ 83%] \u001b[32mBuilding CXX object CMakeFiles/opensmile.dir/src/lldcore/spectral.cpp.o\u001b[0m\n",
      "[ 84%] \u001b[32mBuilding CXX object CMakeFiles/opensmile.dir/src/other/maxIndex.cpp.o\u001b[0m\n",
      "[ 85%] \u001b[32mBuilding CXX object CMakeFiles/opensmile.dir/src/other/valbasedSelector.cpp.o\u001b[0m\n",
      "[ 85%] \u001b[32mBuilding CXX object CMakeFiles/opensmile.dir/src/other/vectorConcat.cpp.o\u001b[0m\n",
      "[ 86%] \u001b[32mBuilding CXX object CMakeFiles/opensmile.dir/src/other/vectorBinaryOperation.cpp.o\u001b[0m\n",
      "[ 87%] \u001b[32mBuilding CXX object CMakeFiles/opensmile.dir/src/other/vectorOperation.cpp.o\u001b[0m\n",
      "[ 87%] \u001b[32mBuilding CXX object CMakeFiles/opensmile.dir/src/other/externalMessageInterface.cpp.o\u001b[0m\n",
      "[ 88%] \u001b[32mBuilding CXX object CMakeFiles/opensmile.dir/src/portaudio/portaudioDuplex.cpp.o\u001b[0m\n",
      "[ 89%] \u001b[32mBuilding CXX object CMakeFiles/opensmile.dir/src/portaudio/portaudioSink.cpp.o\u001b[0m\n",
      "[ 89%] \u001b[32mBuilding CXX object CMakeFiles/opensmile.dir/src/portaudio/portaudioSource.cpp.o\u001b[0m\n",
      "[ 90%] \u001b[32mBuilding CXX object CMakeFiles/opensmile.dir/src/portaudio/portaudioWavplayer.cpp.o\u001b[0m\n",
      "[ 90%] \u001b[32mBuilding CXX object CMakeFiles/opensmile.dir/src/android/openslesSource.cpp.o\u001b[0m\n",
      "[ 91%] \u001b[32mBuilding CXX object CMakeFiles/opensmile.dir/src/rnn/rnn.cpp.o\u001b[0m\n",
      "[ 92%] \u001b[32mBuilding CXX object CMakeFiles/opensmile.dir/src/rnn/rnnProcessor.cpp.o\u001b[0m\n",
      "[ 92%] \u001b[32mBuilding CXX object CMakeFiles/opensmile.dir/src/rnn/rnnSink.cpp.o\u001b[0m\n",
      "[ 93%] \u001b[32mBuilding CXX object CMakeFiles/opensmile.dir/src/rnn/rnnVad2.cpp.o\u001b[0m\n",
      "[ 94%] \u001b[32mBuilding C object CMakeFiles/opensmile.dir/src/smileutil/smileUtil.c.o\u001b[0m\n",
      "[ 94%] \u001b[32mBuilding C object CMakeFiles/opensmile.dir/src/smileutil/smileUtilSpline.c.o\u001b[0m\n",
      "[ 95%] \u001b[32mBuilding CXX object CMakeFiles/opensmile.dir/src/smileutil/smileUtilCsv.cpp.o\u001b[0m\n",
      "[ 96%] \u001b[32mBuilding CXX object CMakeFiles/opensmile.dir/src/smileutil/zerosolve.cpp.o\u001b[0m\n",
      "[ 96%] \u001b[32mBuilding CXX object CMakeFiles/opensmile.dir/src/smileutil/JsonClasses.cpp.o\u001b[0m\n",
      "[ 97%] \u001b[32mBuilding CXX object CMakeFiles/opensmile.dir/src/video/openCVSource.cpp.o\u001b[0m\n",
      "[ 98%] \u001b[32m\u001b[1mLinking CXX static library libopensmile.a\u001b[0m\n",
      "[ 98%] Built target opensmile\n",
      "[ 98%] \u001b[32mBuilding CXX object progsrc/smileapi/CMakeFiles/SMILEapi.dir/SMILEapi.cpp.o\u001b[0m\n",
      "[ 98%] \u001b[32mBuilding CXX object progsrc/smilextract/CMakeFiles/SMILExtract.dir/SMILExtract.cpp.o\u001b[0m\n",
      "[ 99%] \u001b[32m\u001b[1mLinking CXX executable SMILExtract\u001b[0m\n",
      "[ 99%] Built target SMILExtract\n",
      "[100%] \u001b[32m\u001b[1mLinking CXX shared library libSMILEapi.so\u001b[0m\n",
      "[100%] Built target SMILEapi\n"
     ]
    }
   ],
   "source": [
    "!bash build.sh"
   ]
  },
  {
   "cell_type": "code",
   "execution_count": 6,
   "metadata": {
    "colab": {
     "base_uri": "https://localhost:8080/"
    },
    "id": "pzQR6SDNOwQT",
    "outputId": "791ab447-9071-46fe-810d-292e4e084a2e"
   },
   "outputs": [
    {
     "name": "stdout",
     "output_type": "stream",
     "text": [
      "/content/opensmile\n"
     ]
    }
   ],
   "source": [
    "%cd /content/opensmile"
   ]
  },
  {
   "cell_type": "code",
   "execution_count": 7,
   "metadata": {
    "id": "Avf1o4juQDmM"
   },
   "outputs": [],
   "source": [
    "import os, glob, subprocess, pandas as pd, numpy as np, tqdm\n",
    "from sklearn.svm import SVC\n",
    "from sklearn.metrics import classification_report, accuracy_score, f1_score\n"
   ]
  },
  {
   "cell_type": "code",
   "execution_count": 8,
   "metadata": {
    "id": "cChy6Y4JRe1J"
   },
   "outputs": [],
   "source": [
    "SPEECH_FILES_PTH = '/content/drive/MyDrive/hw3_speech_files/'\n",
    "LABEL_CSV        = '/content/drive/MyDrive/hw3_outputs/labels.csv'\n",
    "COLAB_DIR_PTH     = '/content/extracted'\n",
    "IS09_CONF = '/content/opensmile/config/is09-13/IS09_emotion.conf'\n",
    "SMIL_EXE  = '/content/opensmile/build/progsrc/smilextract/SMILExtract'\n",
    "\n",
    "os.makedirs(COLAB_DIR_PTH,      exist_ok=True)\n",
    "CSV_COLAB_PTH = f'{COLAB_DIR_PTH}/per_file_csv'\n",
    "os.makedirs(CSV_COLAB_PTH,       exist_ok=True)\n",
    "ALL_CSV  = f'{COLAB_DIR_PTH}/is09_all_speakers.csv'"
   ]
  },
  {
   "cell_type": "code",
   "execution_count": 9,
   "metadata": {
    "colab": {
     "base_uri": "https://localhost:8080/"
    },
    "id": "eqEg3YvXSMcI",
    "outputId": "b35422a4-656f-40b3-ffc5-d20595c2c14a"
   },
   "outputs": [
    {
     "name": "stderr",
     "output_type": "stream",
     "text": [
      "100%|██████████| 2324/2324 [01:12<00:00, 32.14it/s]\n"
     ]
    }
   ],
   "source": [
    "#extract interspeech 2009 emotional challenge feature set\n",
    "if not os.listdir(CSV_COLAB_PTH):\n",
    "    wav_files = sorted(glob.glob(f'{SPEECH_FILES_PTH}/*.wav'))\n",
    "    for wav in tqdm.tqdm(wav_files):\n",
    "        base = os.path.basename(wav)[:-4]\n",
    "        out  = f'{CSV_COLAB_PTH}/{base}.csv'\n",
    "        inst = os.path.basename(wav)[:-4]\n",
    "        cmd  = [\n",
    "            SMIL_EXE,\n",
    "            '-C', IS09_CONF,\n",
    "            '-I', wav,\n",
    "            '-csvoutput', out,\n",
    "            '-instname', inst,\n",
    "            '-nologfile', '1',\n",
    "            '-noconsoleoutput', '1'\n",
    "        ]\n",
    "        subprocess.run(cmd, check=True)"
   ]
  },
  {
   "cell_type": "code",
   "execution_count": 10,
   "metadata": {
    "colab": {
     "base_uri": "https://localhost:8080/"
    },
    "id": "56rIA4CCsS3T",
    "outputId": "cbecfb14-46fb-4d65-e641-3cbe7fad243e"
   },
   "outputs": [
    {
     "name": "stdout",
     "output_type": "stream",
     "text": [
      "2324 rows in /content/drive/MyDrive/hw3_outputs/labels.csv\n",
      "                                               file speaker  emotion\n",
      "1782     cc_001_anxiety_910.77_May-twenty-third.wav      cc  anxiety\n",
      "1916  cc_001_anxiety_916.11_Eight-hundred-eight.wav      cc  anxiety\n",
      "1791  cc_001_anxiety_918.66_Eight-hundred-eight.wav      cc  anxiety\n",
      "1692  cc_001_anxiety_928.48_Four-thousand-eight.wav      cc  anxiety\n",
      "1796    cc_001_anxiety_934.73_Nine-thousand-six.wav      cc  anxiety\n",
      "...                                             ...     ...      ...\n",
      "2145      mm_001_shame_2878.13_six-hundred-nine.wav      mm    shame\n",
      "2176      mm_001_shame_2883.75_six-hundred-nine.wav      mm    shame\n",
      "2033   mm_001_shame_2889.69_ten-thousand-twelve.wav      mm    shame\n",
      "2287   mm_001_shame_2895.38_ten-thousand-twelve.wav      mm    shame\n",
      "2031      mm_001_shame_2901.30_two-hundred-four.wav      mm    shame\n",
      "\n",
      "[2324 rows x 3 columns]\n"
     ]
    }
   ],
   "source": [
    "import re\n",
    "# create labels.csv\n",
    "if not os.path.exists(LABEL_CSV):\n",
    "    pat = re.compile(r'(?P<speaker>[a-z]{2})_\\d{3}_(?P<emotion>[a-z-]+)_.*\\.wav$', re.I)\n",
    "    rows = []\n",
    "    for wav in glob.glob(f'{SPEECH_FILES_PTH}/*.wav'):\n",
    "        fname = os.path.basename(wav)\n",
    "        m = pat.match(fname)\n",
    "        if m:\n",
    "            rows.append({'file': fname,\n",
    "                         'speaker': m.group('speaker'),\n",
    "                         'emotion': m.group('emotion')})\n",
    "        else:\n",
    "            print('no match:', fname)\n",
    "\n",
    "    lbl_df = pd.DataFrame(rows).sort_values('file')\n",
    "    os.makedirs(os.path.dirname(LABEL_CSV), exist_ok=True)\n",
    "    lbl_df.to_csv(LABEL_CSV, index=False)\n",
    "    print(f'{len(lbl_df)} rows in {LABEL_CSV}')\n",
    "    print(lbl_df)\n",
    "else:\n",
    "    print('labels.csv exists')\n",
    "    print(pd.read_csv(LABEL_CSV))"
   ]
  },
  {
   "cell_type": "code",
   "execution_count": 11,
   "metadata": {
    "colab": {
     "base_uri": "https://localhost:8080/"
    },
    "id": "FMzBb2Tsth7u",
    "outputId": "3d417c99-e542-4c58-b330-2c64133f4964"
   },
   "outputs": [
    {
     "name": "stdout",
     "output_type": "stream",
     "text": [
      "speakers: ['cc', 'cl', 'gg', 'jg', 'mf', 'mk', 'mm']\n",
      "\n",
      "emotion counts:\n",
      "emotion\n",
      "contempt      180\n",
      "happy         177\n",
      "interest      176\n",
      "despair       174\n",
      "disgust       172\n",
      "anxiety       170\n",
      "elation       159\n",
      "boredom       154\n",
      "cold-anger    154\n",
      "sadness       151\n",
      "pride         150\n",
      "shame         148\n",
      "panic         141\n",
      "hot-anger     139\n",
      "neutral        79\n",
      "Name: count, dtype: int64\n",
      "\n",
      "# of unlabeled wavs: 0\n"
     ]
    }
   ],
   "source": [
    "print('speakers:', sorted(lbl_df.speaker.unique()))\n",
    "print('\\nemotion counts:')\n",
    "print(lbl_df.emotion.value_counts())\n",
    "\n",
    "# confirm all .wav has a label\n",
    "all_wavs   = set(os.path.basename(p) for p in glob.glob(f'{SPEECH_FILES_PTH}/*.wav'))\n",
    "labeled    = set(lbl_df.file)\n",
    "print('\\n# of unlabeled wavs:', len(all_wavs - labeled))\n"
   ]
  },
  {
   "cell_type": "code",
   "execution_count": 12,
   "metadata": {
    "colab": {
     "base_uri": "https://localhost:8080/",
     "height": 66,
     "referenced_widgets": [
      "a56d8da7c598455c8d5cb0744d4805c5",
      "ceb51fab792648b1bc44fd2a5412b19d",
      "e45322740a744eb7b89154ffd5a475ee",
      "9e743ec571d54f2bb897a30e0c9ae771",
      "375d99cb639f4a1a893c68949f7cea14",
      "0914f62c2ab444b39d2df459b8a89130",
      "21a791007f5248279e5920790ed7494b",
      "0999092a50ba4cd4a72f6fb0e2055bf2",
      "3869df37adc547a79c09964d0946bd63",
      "2fb9d4d7334e4b63bed50a2c6f126912",
      "e0846777f66a4484a4429b0cf499b525"
     ]
    },
    "id": "ZRNbhMr8zel8",
    "outputId": "e94c4f7c-8338-45d2-d9dc-6503e732c888"
   },
   "outputs": [
    {
     "data": {
      "application/vnd.jupyter.widget-view+json": {
       "model_id": "a56d8da7c598455c8d5cb0744d4805c5",
       "version_major": 2,
       "version_minor": 0
      },
      "text/plain": [
       "  0%|          | 0/2324 [00:00<?, ?it/s]"
      ]
     },
     "metadata": {},
     "output_type": "display_data"
    },
    {
     "name": "stdout",
     "output_type": "stream",
     "text": [
      "combined features saved in /content/extracted/is09_all_speakers.csv\n"
     ]
    }
   ],
   "source": [
    "#combine csv files to one csv\n",
    "from tqdm.auto import tqdm\n",
    "\n",
    "if not os.path.exists(ALL_CSV):\n",
    "    rows = []\n",
    "    for csv in tqdm(glob.glob(f'{CSV_COLAB_PTH}/*.csv')):\n",
    "        df = pd.read_csv(csv, sep=';')\n",
    "        df['file'] = os.path.basename(csv).replace('.csv', '.wav')\n",
    "        rows.append(df)\n",
    "\n",
    "    feat_df = pd.concat(rows, ignore_index=True)\n",
    "    meta = pd.read_csv(LABEL_CSV)\n",
    "    feat_df  = feat_df.merge(meta, on='file', how='left')\n",
    "    feat_df.to_csv(ALL_CSV, index=False)\n",
    "    print(f'combined features saved in {ALL_CSV}')\n",
    "else:\n",
    "    feat_df = pd.read_csv(ALL_CSV)\n",
    "    print(f'{ALL_CSV} exists')"
   ]
  },
  {
   "cell_type": "code",
   "execution_count": 13,
   "metadata": {
    "colab": {
     "base_uri": "https://localhost:8080/"
    },
    "id": "1baE0BH90V39",
    "outputId": "f148b22a-59d4-41d5-e375-67a8ebe5e68e"
   },
   "outputs": [
    {
     "name": "stdout",
     "output_type": "stream",
     "text": [
      "shape of combined features csv (is09_all_speakers.csv): (2324, 389)\n"
     ]
    }
   ],
   "source": [
    "print(f'shape of combined features csv (is09_all_speakers.csv): {feat_df.shape}')"
   ]
  },
  {
   "cell_type": "code",
   "execution_count": 14,
   "metadata": {
    "colab": {
     "base_uri": "https://localhost:8080/"
    },
    "id": "UDIylOv147KS",
    "outputId": "958c8c6f-8d93-46af-bb73-a7f2e844d25a"
   },
   "outputs": [
    {
     "name": "stdout",
     "output_type": "stream",
     "text": [
      "columns of is09_all_speakers.csv: Index(['name', 'frameTime', 'pcm_RMSenergy_sma_max', 'pcm_RMSenergy_sma_min',\n",
      "       'pcm_RMSenergy_sma_range', 'pcm_RMSenergy_sma_maxPos',\n",
      "       'pcm_RMSenergy_sma_minPos', 'pcm_RMSenergy_sma_amean',\n",
      "       'pcm_RMSenergy_sma_linregc1', 'pcm_RMSenergy_sma_linregc2',\n",
      "       ...\n",
      "       'F0_sma_de_amean', 'F0_sma_de_linregc1', 'F0_sma_de_linregc2',\n",
      "       'F0_sma_de_linregerrQ', 'F0_sma_de_stddev', 'F0_sma_de_skewness',\n",
      "       'F0_sma_de_kurtosis', 'file', 'speaker', 'emotion'],\n",
      "      dtype='object', length=389)\n"
     ]
    }
   ],
   "source": [
    "print(f'columns of is09_all_speakers.csv: {feat_df.columns}')"
   ]
  },
  {
   "cell_type": "code",
   "execution_count": 15,
   "metadata": {
    "colab": {
     "base_uri": "https://localhost:8080/"
    },
    "id": "ssT9ZVU65FcY",
    "outputId": "860910d0-f2b2-4c7f-ced0-a8322352eef1"
   },
   "outputs": [
    {
     "name": "stdout",
     "output_type": "stream",
     "text": [
      "first 10 rows\n",
      ":                                             name  frameTime  \\\n",
      "0     'gg_001_shame_2048.25_Ten-thousand-twelve'        0.0   \n",
      "1   'mf_001_boredom_3041.49_Three-thousand-five'        0.0   \n",
      "2  'mm_001_anxiety_1306.80_three-thousand-eight'        0.0   \n",
      "3                'cl_001_sadness_712.80_January'        0.0   \n",
      "4    'cl_001_boredom_1108.66_Eight-hundred-five'        0.0   \n",
      "5      'gg_001_pride_2160.01_March-twenty-fifth'        0.0   \n",
      "6           'cl_001_happy_892.14_December-sixth'        0.0   \n",
      "7    'gg_001_anxiety_824.23_Eight-hundred-eight'        0.0   \n",
      "8        'cl_001_elation_828.41_September-fifth'        0.0   \n",
      "9       'mk_001_sadness_1590.89_One-hundred-six'        0.0   \n",
      "\n",
      "   pcm_RMSenergy_sma_max  pcm_RMSenergy_sma_min  pcm_RMSenergy_sma_range  \\\n",
      "0               0.071346               0.000625                 0.070721   \n",
      "1               0.019240               0.000681                 0.018560   \n",
      "2               0.057650               0.000165                 0.057484   \n",
      "3               0.034068               0.000508                 0.033560   \n",
      "4               0.006324               0.000120                 0.006204   \n",
      "5               0.014513               0.000078                 0.014435   \n",
      "6               0.024313               0.000019                 0.024294   \n",
      "7               0.008604               0.000064                 0.008540   \n",
      "8               0.121397               0.000051                 0.121346   \n",
      "9               0.040308               0.000173                 0.040135   \n",
      "\n",
      "   pcm_RMSenergy_sma_maxPos  pcm_RMSenergy_sma_minPos  \\\n",
      "0                         2                        79   \n",
      "1                        27                         4   \n",
      "2                       148                       142   \n",
      "3                        38                       167   \n",
      "4                       100                         1   \n",
      "5                        66                        86   \n",
      "6                        68                        12   \n",
      "7                        85                        77   \n",
      "8                       118                         4   \n",
      "9                        72                        91   \n",
      "\n",
      "   pcm_RMSenergy_sma_amean  pcm_RMSenergy_sma_linregc1  \\\n",
      "0                 0.010241                   -0.000192   \n",
      "1                 0.005797                   -0.000047   \n",
      "2                 0.005765                    0.000056   \n",
      "3                 0.008580                   -0.000022   \n",
      "4                 0.001599                   -0.000002   \n",
      "5                 0.004102                   -0.000021   \n",
      "6                 0.003317                   -0.000021   \n",
      "7                 0.002764                   -0.000051   \n",
      "8                 0.020265                   -0.000089   \n",
      "9                 0.005153                   -0.000006   \n",
      "\n",
      "   pcm_RMSenergy_sma_linregc2  ...  F0_sma_de_amean  F0_sma_de_linregc1  \\\n",
      "0                    0.022322  ...     0.000000e+00            0.000000   \n",
      "1                    0.009496  ...     3.140561e-08           -0.002061   \n",
      "2                    0.000948  ...    -2.740443e-09           -0.002033   \n",
      "3                    0.010539  ...     0.000000e+00            0.000000   \n",
      "4                    0.001809  ...     0.000000e+00            0.000000   \n",
      "5                    0.005059  ...     1.845821e-07           -0.018878   \n",
      "6                    0.005106  ...    -5.577043e-08           -0.011927   \n",
      "7                    0.005102  ...     0.000000e+00            0.000000   \n",
      "8                    0.028499  ...     1.902677e+00           -0.003929   \n",
      "9                    0.005638  ...     3.140844e-08           -0.014769   \n",
      "\n",
      "   F0_sma_de_linregc2  F0_sma_de_linregerrQ  F0_sma_de_stddev  \\\n",
      "0            0.000000               0.00000          0.000000   \n",
      "1            0.161769              46.92296          6.850678   \n",
      "2            0.175870              38.58116          6.212213   \n",
      "3            0.000000               0.00000          0.000000   \n",
      "4            0.000000               0.00000          0.000000   \n",
      "5            0.868374             399.64210         19.997470   \n",
      "6            1.013825             605.68550         24.617720   \n",
      "7            0.000000               0.00000          0.000000   \n",
      "8            2.266109            2135.06900         46.207290   \n",
      "9            1.225806             595.06630         24.404370   \n",
      "\n",
      "   F0_sma_de_skewness  F0_sma_de_kurtosis  \\\n",
      "0            0.000000            0.000000   \n",
      "1           -0.008912           22.553550   \n",
      "2           -1.893351           26.892500   \n",
      "3            0.000000            0.000000   \n",
      "4            0.000000            0.000000   \n",
      "5            0.041840           15.081600   \n",
      "6            0.448144           12.784490   \n",
      "7            0.000000            0.000000   \n",
      "8            0.090909            4.111588   \n",
      "9            0.139240            8.357843   \n",
      "\n",
      "                                              file  speaker  emotion  \n",
      "0     gg_001_shame_2048.25_Ten-thousand-twelve.wav       gg    shame  \n",
      "1   mf_001_boredom_3041.49_Three-thousand-five.wav       mf  boredom  \n",
      "2  mm_001_anxiety_1306.80_three-thousand-eight.wav       mm  anxiety  \n",
      "3                cl_001_sadness_712.80_January.wav       cl  sadness  \n",
      "4    cl_001_boredom_1108.66_Eight-hundred-five.wav       cl  boredom  \n",
      "5      gg_001_pride_2160.01_March-twenty-fifth.wav       gg    pride  \n",
      "6           cl_001_happy_892.14_December-sixth.wav       cl    happy  \n",
      "7    gg_001_anxiety_824.23_Eight-hundred-eight.wav       gg  anxiety  \n",
      "8        cl_001_elation_828.41_September-fifth.wav       cl  elation  \n",
      "9       mk_001_sadness_1590.89_One-hundred-six.wav       mk  sadness  \n",
      "\n",
      "[10 rows x 389 columns]\n"
     ]
    }
   ],
   "source": [
    "print(f'first 10 rows\\n: {feat_df.head(10)}')"
   ]
  },
  {
   "cell_type": "markdown",
   "metadata": {
    "id": "hJ_SfM_i2r1X"
   },
   "source": [
    "## Z-score Normalization"
   ]
  },
  {
   "cell_type": "code",
   "execution_count": 16,
   "metadata": {
    "colab": {
     "base_uri": "https://localhost:8080/"
    },
    "id": "vpuOR5Q_lmS9",
    "outputId": "86d71a82-b539-42dd-bd1d-a811b3769f44"
   },
   "outputs": [
    {
     "name": "stdout",
     "output_type": "stream",
     "text": [
      "columns containing 0:\n",
      "\n",
      "frameTime                                  2324\n",
      "F0_sma_min                                 2324\n",
      "F0_sma_minPos                              2316\n",
      "F0_sma_de_amean                             436\n",
      "F0_sma_de_min                               364\n",
      "F0_sma_de_minPos                            364\n",
      "F0_sma_kurtosis                             363\n",
      "F0_sma_de_kurtosis                          363\n",
      "F0_sma_de_max                               363\n",
      "F0_sma_linregc1                             363\n",
      "F0_sma_range                                363\n",
      "F0_sma_maxPos                               363\n",
      "F0_sma_skewness                             363\n",
      "F0_sma_de_range                             363\n",
      "F0_sma_de_maxPos                            363\n",
      "F0_sma_stddev                               363\n",
      "F0_sma_linregerrQ                           363\n",
      "F0_sma_max                                  363\n",
      "F0_sma_linregc2                             363\n",
      "F0_sma_amean                                363\n",
      "F0_sma_de_skewness                          363\n",
      "F0_sma_de_linregc2                          363\n",
      "F0_sma_de_linregc1                          363\n",
      "F0_sma_de_stddev                            363\n",
      "F0_sma_de_linregerrQ                        363\n",
      "pcm_RMSenergy_sma_minPos                    324\n",
      "pcm_zcr_sma_minPos                          193\n",
      "pcm_zcr_sma_min                             159\n",
      "voiceProb_sma_minPos                        134\n",
      "pcm_fftMag_mfcc_sma[6]_maxPos               111\n",
      "pcm_fftMag_mfcc_sma[5]_maxPos               109\n",
      "pcm_fftMag_mfcc_sma[4]_maxPos                90\n",
      "pcm_fftMag_mfcc_sma[7]_maxPos                79\n",
      "pcm_fftMag_mfcc_sma[9]_maxPos                71\n",
      "pcm_fftMag_mfcc_sma[11]_maxPos               64\n",
      "pcm_fftMag_mfcc_sma[10]_maxPos               59\n",
      "pcm_fftMag_mfcc_sma[8]_maxPos                54\n",
      "pcm_fftMag_mfcc_sma[12]_maxPos               50\n",
      "pcm_fftMag_mfcc_sma[2]_maxPos                31\n",
      "pcm_fftMag_mfcc_sma[3]_maxPos                28\n",
      "pcm_fftMag_mfcc_sma[1]_minPos                24\n",
      "pcm_fftMag_mfcc_sma[1]_maxPos                17\n",
      "pcm_zcr_sma_maxPos                           16\n",
      "pcm_fftMag_mfcc_sma[11]_minPos               11\n",
      "pcm_fftMag_mfcc_sma[12]_minPos                9\n",
      "pcm_fftMag_mfcc_sma[2]_minPos                 8\n",
      "pcm_fftMag_mfcc_sma[4]_minPos                 6\n",
      "pcm_fftMag_mfcc_sma[3]_minPos                 6\n",
      "pcm_fftMag_mfcc_sma[8]_minPos                 5\n",
      "pcm_fftMag_mfcc_sma[5]_minPos                 4\n",
      "pcm_RMSenergy_sma_de_maxPos                   3\n",
      "pcm_fftMag_mfcc_sma[9]_minPos                 3\n",
      "pcm_fftMag_mfcc_sma[10]_minPos                3\n",
      "pcm_fftMag_mfcc_sma[7]_minPos                 2\n",
      "pcm_RMSenergy_sma_maxPos                      1\n",
      "voiceProb_sma_maxPos                          1\n",
      "pcm_fftMag_mfcc_sma_de[2]_minPos              1\n"
     ]
    }
   ],
   "source": [
    "# count zeros in each feature column\n",
    "meta_cols = ['file', 'speaker', 'emotion', 'name']\n",
    "feat_cols = [c for c in feat_df.columns if c not in meta_cols]\n",
    "\n",
    "zero_counts = (feat_df[feat_cols] == 0).sum()\n",
    "zero_counts = zero_counts[zero_counts > 0].sort_values(ascending=False)\n",
    "\n",
    "print(\"columns containing 0:\\n\")\n",
    "for col, n in zero_counts.items():\n",
    "    print(f\"{col:<40s} {n:>6d}\")"
   ]
  },
  {
   "cell_type": "code",
   "execution_count": 17,
   "metadata": {
    "colab": {
     "base_uri": "https://localhost:8080/",
     "height": 164
    },
    "id": "GQbscviHnTwv",
    "outputId": "3a8e2c20-f2d6-40ea-bc3b-8d22d496726e"
   },
   "outputs": [
    {
     "name": "stdout",
     "output_type": "stream",
     "text": [
      "\n",
      "2 constant columns:\n",
      "['frameTime', 'F0_sma_min']\n"
     ]
    },
    {
     "data": {
      "application/vnd.google.colaboratory.intrinsic+json": {
       "summary": "{\n  \"name\": \"display(feat_df[const_cols]\",\n  \"rows\": 2,\n  \"fields\": [\n    {\n      \"column\": \"min\",\n      \"properties\": {\n        \"dtype\": \"number\",\n        \"std\": 0.0,\n        \"min\": 0.0,\n        \"max\": 0.0,\n        \"num_unique_values\": 1,\n        \"samples\": [\n          0.0\n        ],\n        \"semantic_type\": \"\",\n        \"description\": \"\"\n      }\n    },\n    {\n      \"column\": \"max\",\n      \"properties\": {\n        \"dtype\": \"number\",\n        \"std\": 0.0,\n        \"min\": 0.0,\n        \"max\": 0.0,\n        \"num_unique_values\": 1,\n        \"samples\": [\n          0.0\n        ],\n        \"semantic_type\": \"\",\n        \"description\": \"\"\n      }\n    },\n    {\n      \"column\": \"mean\",\n      \"properties\": {\n        \"dtype\": \"number\",\n        \"std\": 0.0,\n        \"min\": 0.0,\n        \"max\": 0.0,\n        \"num_unique_values\": 1,\n        \"samples\": [\n          0.0\n        ],\n        \"semantic_type\": \"\",\n        \"description\": \"\"\n      }\n    }\n  ]\n}",
       "type": "dataframe"
      },
      "text/html": [
       "\n",
       "  <div id=\"df-861fc790-ad96-49a2-85e6-4b7d73713469\" class=\"colab-df-container\">\n",
       "    <div>\n",
       "<style scoped>\n",
       "    .dataframe tbody tr th:only-of-type {\n",
       "        vertical-align: middle;\n",
       "    }\n",
       "\n",
       "    .dataframe tbody tr th {\n",
       "        vertical-align: top;\n",
       "    }\n",
       "\n",
       "    .dataframe thead th {\n",
       "        text-align: right;\n",
       "    }\n",
       "</style>\n",
       "<table border=\"1\" class=\"dataframe\">\n",
       "  <thead>\n",
       "    <tr style=\"text-align: right;\">\n",
       "      <th></th>\n",
       "      <th>min</th>\n",
       "      <th>max</th>\n",
       "      <th>mean</th>\n",
       "    </tr>\n",
       "  </thead>\n",
       "  <tbody>\n",
       "    <tr>\n",
       "      <th>frameTime</th>\n",
       "      <td>0.0</td>\n",
       "      <td>0.0</td>\n",
       "      <td>0.0</td>\n",
       "    </tr>\n",
       "    <tr>\n",
       "      <th>F0_sma_min</th>\n",
       "      <td>0.0</td>\n",
       "      <td>0.0</td>\n",
       "      <td>0.0</td>\n",
       "    </tr>\n",
       "  </tbody>\n",
       "</table>\n",
       "</div>\n",
       "    <div class=\"colab-df-buttons\">\n",
       "\n",
       "  <div class=\"colab-df-container\">\n",
       "    <button class=\"colab-df-convert\" onclick=\"convertToInteractive('df-861fc790-ad96-49a2-85e6-4b7d73713469')\"\n",
       "            title=\"Convert this dataframe to an interactive table.\"\n",
       "            style=\"display:none;\">\n",
       "\n",
       "  <svg xmlns=\"http://www.w3.org/2000/svg\" height=\"24px\" viewBox=\"0 -960 960 960\">\n",
       "    <path d=\"M120-120v-720h720v720H120Zm60-500h600v-160H180v160Zm220 220h160v-160H400v160Zm0 220h160v-160H400v160ZM180-400h160v-160H180v160Zm440 0h160v-160H620v160ZM180-180h160v-160H180v160Zm440 0h160v-160H620v160Z\"/>\n",
       "  </svg>\n",
       "    </button>\n",
       "\n",
       "  <style>\n",
       "    .colab-df-container {\n",
       "      display:flex;\n",
       "      gap: 12px;\n",
       "    }\n",
       "\n",
       "    .colab-df-convert {\n",
       "      background-color: #E8F0FE;\n",
       "      border: none;\n",
       "      border-radius: 50%;\n",
       "      cursor: pointer;\n",
       "      display: none;\n",
       "      fill: #1967D2;\n",
       "      height: 32px;\n",
       "      padding: 0 0 0 0;\n",
       "      width: 32px;\n",
       "    }\n",
       "\n",
       "    .colab-df-convert:hover {\n",
       "      background-color: #E2EBFA;\n",
       "      box-shadow: 0px 1px 2px rgba(60, 64, 67, 0.3), 0px 1px 3px 1px rgba(60, 64, 67, 0.15);\n",
       "      fill: #174EA6;\n",
       "    }\n",
       "\n",
       "    .colab-df-buttons div {\n",
       "      margin-bottom: 4px;\n",
       "    }\n",
       "\n",
       "    [theme=dark] .colab-df-convert {\n",
       "      background-color: #3B4455;\n",
       "      fill: #D2E3FC;\n",
       "    }\n",
       "\n",
       "    [theme=dark] .colab-df-convert:hover {\n",
       "      background-color: #434B5C;\n",
       "      box-shadow: 0px 1px 3px 1px rgba(0, 0, 0, 0.15);\n",
       "      filter: drop-shadow(0px 1px 2px rgba(0, 0, 0, 0.3));\n",
       "      fill: #FFFFFF;\n",
       "    }\n",
       "  </style>\n",
       "\n",
       "    <script>\n",
       "      const buttonEl =\n",
       "        document.querySelector('#df-861fc790-ad96-49a2-85e6-4b7d73713469 button.colab-df-convert');\n",
       "      buttonEl.style.display =\n",
       "        google.colab.kernel.accessAllowed ? 'block' : 'none';\n",
       "\n",
       "      async function convertToInteractive(key) {\n",
       "        const element = document.querySelector('#df-861fc790-ad96-49a2-85e6-4b7d73713469');\n",
       "        const dataTable =\n",
       "          await google.colab.kernel.invokeFunction('convertToInteractive',\n",
       "                                                    [key], {});\n",
       "        if (!dataTable) return;\n",
       "\n",
       "        const docLinkHtml = 'Like what you see? Visit the ' +\n",
       "          '<a target=\"_blank\" href=https://colab.research.google.com/notebooks/data_table.ipynb>data table notebook</a>'\n",
       "          + ' to learn more about interactive tables.';\n",
       "        element.innerHTML = '';\n",
       "        dataTable['output_type'] = 'display_data';\n",
       "        await google.colab.output.renderOutput(dataTable, element);\n",
       "        const docLink = document.createElement('div');\n",
       "        docLink.innerHTML = docLinkHtml;\n",
       "        element.appendChild(docLink);\n",
       "      }\n",
       "    </script>\n",
       "  </div>\n",
       "\n",
       "\n",
       "    <div id=\"df-2cdf218d-81b0-4713-87d7-a52b255b2547\">\n",
       "      <button class=\"colab-df-quickchart\" onclick=\"quickchart('df-2cdf218d-81b0-4713-87d7-a52b255b2547')\"\n",
       "                title=\"Suggest charts\"\n",
       "                style=\"display:none;\">\n",
       "\n",
       "<svg xmlns=\"http://www.w3.org/2000/svg\" height=\"24px\"viewBox=\"0 0 24 24\"\n",
       "     width=\"24px\">\n",
       "    <g>\n",
       "        <path d=\"M19 3H5c-1.1 0-2 .9-2 2v14c0 1.1.9 2 2 2h14c1.1 0 2-.9 2-2V5c0-1.1-.9-2-2-2zM9 17H7v-7h2v7zm4 0h-2V7h2v10zm4 0h-2v-4h2v4z\"/>\n",
       "    </g>\n",
       "</svg>\n",
       "      </button>\n",
       "\n",
       "<style>\n",
       "  .colab-df-quickchart {\n",
       "      --bg-color: #E8F0FE;\n",
       "      --fill-color: #1967D2;\n",
       "      --hover-bg-color: #E2EBFA;\n",
       "      --hover-fill-color: #174EA6;\n",
       "      --disabled-fill-color: #AAA;\n",
       "      --disabled-bg-color: #DDD;\n",
       "  }\n",
       "\n",
       "  [theme=dark] .colab-df-quickchart {\n",
       "      --bg-color: #3B4455;\n",
       "      --fill-color: #D2E3FC;\n",
       "      --hover-bg-color: #434B5C;\n",
       "      --hover-fill-color: #FFFFFF;\n",
       "      --disabled-bg-color: #3B4455;\n",
       "      --disabled-fill-color: #666;\n",
       "  }\n",
       "\n",
       "  .colab-df-quickchart {\n",
       "    background-color: var(--bg-color);\n",
       "    border: none;\n",
       "    border-radius: 50%;\n",
       "    cursor: pointer;\n",
       "    display: none;\n",
       "    fill: var(--fill-color);\n",
       "    height: 32px;\n",
       "    padding: 0;\n",
       "    width: 32px;\n",
       "  }\n",
       "\n",
       "  .colab-df-quickchart:hover {\n",
       "    background-color: var(--hover-bg-color);\n",
       "    box-shadow: 0 1px 2px rgba(60, 64, 67, 0.3), 0 1px 3px 1px rgba(60, 64, 67, 0.15);\n",
       "    fill: var(--button-hover-fill-color);\n",
       "  }\n",
       "\n",
       "  .colab-df-quickchart-complete:disabled,\n",
       "  .colab-df-quickchart-complete:disabled:hover {\n",
       "    background-color: var(--disabled-bg-color);\n",
       "    fill: var(--disabled-fill-color);\n",
       "    box-shadow: none;\n",
       "  }\n",
       "\n",
       "  .colab-df-spinner {\n",
       "    border: 2px solid var(--fill-color);\n",
       "    border-color: transparent;\n",
       "    border-bottom-color: var(--fill-color);\n",
       "    animation:\n",
       "      spin 1s steps(1) infinite;\n",
       "  }\n",
       "\n",
       "  @keyframes spin {\n",
       "    0% {\n",
       "      border-color: transparent;\n",
       "      border-bottom-color: var(--fill-color);\n",
       "      border-left-color: var(--fill-color);\n",
       "    }\n",
       "    20% {\n",
       "      border-color: transparent;\n",
       "      border-left-color: var(--fill-color);\n",
       "      border-top-color: var(--fill-color);\n",
       "    }\n",
       "    30% {\n",
       "      border-color: transparent;\n",
       "      border-left-color: var(--fill-color);\n",
       "      border-top-color: var(--fill-color);\n",
       "      border-right-color: var(--fill-color);\n",
       "    }\n",
       "    40% {\n",
       "      border-color: transparent;\n",
       "      border-right-color: var(--fill-color);\n",
       "      border-top-color: var(--fill-color);\n",
       "    }\n",
       "    60% {\n",
       "      border-color: transparent;\n",
       "      border-right-color: var(--fill-color);\n",
       "    }\n",
       "    80% {\n",
       "      border-color: transparent;\n",
       "      border-right-color: var(--fill-color);\n",
       "      border-bottom-color: var(--fill-color);\n",
       "    }\n",
       "    90% {\n",
       "      border-color: transparent;\n",
       "      border-bottom-color: var(--fill-color);\n",
       "    }\n",
       "  }\n",
       "</style>\n",
       "\n",
       "      <script>\n",
       "        async function quickchart(key) {\n",
       "          const quickchartButtonEl =\n",
       "            document.querySelector('#' + key + ' button');\n",
       "          quickchartButtonEl.disabled = true;  // To prevent multiple clicks.\n",
       "          quickchartButtonEl.classList.add('colab-df-spinner');\n",
       "          try {\n",
       "            const charts = await google.colab.kernel.invokeFunction(\n",
       "                'suggestCharts', [key], {});\n",
       "          } catch (error) {\n",
       "            console.error('Error during call to suggestCharts:', error);\n",
       "          }\n",
       "          quickchartButtonEl.classList.remove('colab-df-spinner');\n",
       "          quickchartButtonEl.classList.add('colab-df-quickchart-complete');\n",
       "        }\n",
       "        (() => {\n",
       "          let quickchartButtonEl =\n",
       "            document.querySelector('#df-2cdf218d-81b0-4713-87d7-a52b255b2547 button');\n",
       "          quickchartButtonEl.style.display =\n",
       "            google.colab.kernel.accessAllowed ? 'block' : 'none';\n",
       "        })();\n",
       "      </script>\n",
       "    </div>\n",
       "\n",
       "    </div>\n",
       "  </div>\n"
      ],
      "text/plain": [
       "            min  max  mean\n",
       "frameTime   0.0  0.0   0.0\n",
       "F0_sma_min  0.0  0.0   0.0"
      ]
     },
     "metadata": {},
     "output_type": "display_data"
    }
   ],
   "source": [
    "# columns containing constant values\n",
    "meta_cols  = ['file', 'speaker', 'emotion', 'name']\n",
    "const_cols = [c for c in feat_df.columns\n",
    "              if c not in meta_cols and feat_df[c].nunique(dropna=False) == 1]\n",
    "\n",
    "print(f\"\\n{len(const_cols)} constant columns:\")\n",
    "print(const_cols)\n",
    "\n",
    "display(feat_df[const_cols].describe().T[['min','max','mean']])\n"
   ]
  },
  {
   "cell_type": "code",
   "execution_count": 18,
   "metadata": {
    "colab": {
     "base_uri": "https://localhost:8080/"
    },
    "id": "o5THcXvknrQc",
    "outputId": "c4fa3db1-c20a-4147-c61a-8381493781da"
   },
   "outputs": [
    {
     "name": "stdout",
     "output_type": "stream",
     "text": [
      "Dropped constant columns ['frameTime', 'F0_sma_min']. New shape = (2324, 387)\n"
     ]
    }
   ],
   "source": [
    "#Drop constant columns\n",
    "feat_df = feat_df.drop(columns=const_cols)\n",
    "print(f\"Dropped constant columns {const_cols}. New shape = {feat_df.shape}\")\n"
   ]
  },
  {
   "cell_type": "code",
   "execution_count": 19,
   "metadata": {
    "colab": {
     "base_uri": "https://localhost:8080/"
    },
    "id": "LtXd_1m8pxjt",
    "outputId": "8c2572e1-165b-45e5-8713-499fe33342cb"
   },
   "outputs": [
    {
     "name": "stdout",
     "output_type": "stream",
     "text": [
      "Dropped F0_sma_minPos. New shape = (2324, 386)\n"
     ]
    }
   ],
   "source": [
    "#Drop F0_sma_minPos --> 2316 0s (almost always 0)\n",
    "\n",
    "feat_df = feat_df.drop(columns=['F0_sma_minPos'])\n",
    "print(f\"Dropped F0_sma_minPos. New shape = {feat_df.shape}\")"
   ]
  },
  {
   "cell_type": "code",
   "execution_count": 20,
   "metadata": {
    "colab": {
     "base_uri": "https://localhost:8080/"
    },
    "id": "bxm62yS5OIJO",
    "outputId": "e77481b9-f02a-41ca-aaca-a7e04a7ac4cc"
   },
   "outputs": [
    {
     "name": "stdout",
     "output_type": "stream",
     "text": [
      "382 numeric columns\n"
     ]
    }
   ],
   "source": [
    "#get numeric columns for normalization\n",
    "feat_cols = feat_df.select_dtypes(include=[np.number]).columns\n",
    "print(f'{len(feat_cols)} numeric columns')"
   ]
  },
  {
   "cell_type": "code",
   "execution_count": 21,
   "metadata": {
    "id": "guANOToy00Gi"
   },
   "outputs": [],
   "source": [
    "means = feat_df.groupby('speaker')[feat_cols].transform('mean')\n",
    "stds  = feat_df.groupby('speaker')[feat_cols].transform('std', ddof=0)\n",
    "\n",
    "# z-score normalise\n",
    "feat_df[feat_cols] = (feat_df[feat_cols] - means) / stds"
   ]
  },
  {
   "cell_type": "code",
   "execution_count": 22,
   "metadata": {
    "colab": {
     "base_uri": "https://localhost:8080/"
    },
    "id": "B72iu2baRrns",
    "outputId": "edca101e-1481-4ff5-92fd-b3b9fd8c8640"
   },
   "outputs": [
    {
     "name": "stdout",
     "output_type": "stream",
     "text": [
      "        pcm_RMSenergy_sma_max        pcm_RMSenergy_sma_min         \\\n",
      "                         mean    std                  mean    std   \n",
      "speaker                                                             \n",
      "cc                        0.0  1.002                   0.0  1.002   \n",
      "cl                       -0.0  1.001                   0.0  1.001   \n",
      "gg                        0.0  1.001                  -0.0  1.001   \n",
      "jg                        0.0  1.002                   0.0  1.002   \n",
      "mf                       -0.0  1.002                   0.0  1.002   \n",
      "mk                       -0.0  1.001                  -0.0  1.001   \n",
      "mm                       -0.0  1.002                  -0.0  1.002   \n",
      "\n",
      "        pcm_RMSenergy_sma_range        pcm_RMSenergy_sma_maxPos         \\\n",
      "                           mean    std                     mean    std   \n",
      "speaker                                                                  \n",
      "cc                         -0.0  1.002                     -0.0  1.002   \n",
      "cl                         -0.0  1.001                     -0.0  1.001   \n",
      "gg                          0.0  1.001                     -0.0  1.001   \n",
      "jg                         -0.0  1.002                     -0.0  1.002   \n",
      "mf                         -0.0  1.002                      0.0  1.002   \n",
      "mk                          0.0  1.001                      0.0  1.001   \n",
      "mm                         -0.0  1.002                      0.0  1.002   \n",
      "\n",
      "        pcm_RMSenergy_sma_minPos         ... F0_sma_de_linregc2         \\\n",
      "                            mean    std  ...               mean    std   \n",
      "speaker                                  ...                             \n",
      "cc                           0.0  1.002  ...                0.0  1.002   \n",
      "cl                           0.0  1.001  ...                0.0  1.001   \n",
      "gg                           0.0  1.001  ...               -0.0  1.001   \n",
      "jg                          -0.0  1.002  ...               -0.0  1.002   \n",
      "mf                           0.0  1.002  ...               -0.0  1.002   \n",
      "mk                          -0.0  1.001  ...               -0.0  1.001   \n",
      "mm                          -0.0  1.002  ...               -0.0  1.002   \n",
      "\n",
      "        F0_sma_de_linregerrQ        F0_sma_de_stddev         \\\n",
      "                        mean    std             mean    std   \n",
      "speaker                                                       \n",
      "cc                      -0.0  1.002              0.0  1.002   \n",
      "cl                      -0.0  1.001             -0.0  1.001   \n",
      "gg                      -0.0  1.001              0.0  1.001   \n",
      "jg                      -0.0  1.002              0.0  1.002   \n",
      "mf                       0.0  1.002             -0.0  1.002   \n",
      "mk                       0.0  1.001              0.0  1.001   \n",
      "mm                      -0.0  1.002             -0.0  1.002   \n",
      "\n",
      "        F0_sma_de_skewness        F0_sma_de_kurtosis         \n",
      "                      mean    std               mean    std  \n",
      "speaker                                                      \n",
      "cc                    -0.0  1.002                0.0  1.002  \n",
      "cl                    -0.0  1.001               -0.0  1.001  \n",
      "gg                     0.0  1.001               -0.0  1.001  \n",
      "jg                    -0.0  1.002               -0.0  1.002  \n",
      "mf                    -0.0  1.002               -0.0  1.002  \n",
      "mk                    -0.0  1.001                0.0  1.001  \n",
      "mm                     0.0  1.002                0.0  1.002  \n",
      "\n",
      "[7 rows x 764 columns]\n"
     ]
    }
   ],
   "source": [
    "check = feat_df.groupby('speaker')[feat_cols].agg(['mean','std']).round(3)\n",
    "print(check)\n"
   ]
  },
  {
   "cell_type": "code",
   "execution_count": 23,
   "metadata": {
    "colab": {
     "base_uri": "https://localhost:8080/"
    },
    "id": "vk4YExMMT_oP",
    "outputId": "90fc4b99-9bfd-4d73-e691-0f97e73e6489"
   },
   "outputs": [
    {
     "name": "stdout",
     "output_type": "stream",
     "text": [
      "first 10 rows\n",
      ":                                             name  pcm_RMSenergy_sma_max  \\\n",
      "0     'gg_001_shame_2048.25_Ten-thousand-twelve'               0.363608   \n",
      "1   'mf_001_boredom_3041.49_Three-thousand-five'              -0.462185   \n",
      "2  'mm_001_anxiety_1306.80_three-thousand-eight'               0.418096   \n",
      "3                'cl_001_sadness_712.80_January'              -0.101362   \n",
      "4    'cl_001_boredom_1108.66_Eight-hundred-five'              -0.709757   \n",
      "5      'gg_001_pride_2160.01_March-twenty-fifth'              -1.093733   \n",
      "6           'cl_001_happy_892.14_December-sixth'              -0.315290   \n",
      "7    'gg_001_anxiety_824.23_Eight-hundred-eight'              -1.245254   \n",
      "8        'cl_001_elation_828.41_September-fifth'               1.813623   \n",
      "9       'mk_001_sadness_1590.89_One-hundred-six'              -0.191756   \n",
      "\n",
      "   pcm_RMSenergy_sma_min  pcm_RMSenergy_sma_range  pcm_RMSenergy_sma_maxPos  \\\n",
      "0               1.241181                 0.353870                 -1.077125   \n",
      "1               1.652262                -0.474047                 -0.558441   \n",
      "2              -0.131745                 0.419967                  2.546902   \n",
      "3               7.178273                -0.110608                 -0.996553   \n",
      "4               0.589040                -0.710424                  0.990804   \n",
      "5              -0.445766                -1.091809                  0.714196   \n",
      "6              -1.140576                -0.313778                 -0.034929   \n",
      "7              -0.487618                -1.243229                  1.245994   \n",
      "8              -0.593457                 1.814152                  1.567778   \n",
      "9               0.225340                -0.192420                  0.348542   \n",
      "\n",
      "   pcm_RMSenergy_sma_minPos  pcm_RMSenergy_sma_amean  \\\n",
      "0                  0.311352                -0.275440   \n",
      "1                 -1.011753                -0.294864   \n",
      "2                  1.220473                -0.382155   \n",
      "3                  1.035895                 0.309670   \n",
      "4                 -1.230283                -0.503014   \n",
      "5                  0.477211                -0.970530   \n",
      "6                 -1.080115                -0.302945   \n",
      "7                  0.263964                -1.122036   \n",
      "8                 -1.189328                 1.669922   \n",
      "9                  0.219985                -0.328334   \n",
      "\n",
      "   pcm_RMSenergy_sma_linregc1  pcm_RMSenergy_sma_linregc2  \\\n",
      "0                   -0.736993                    0.466248   \n",
      "1                   -0.006844                   -0.136749   \n",
      "2                    1.091945                   -1.046886   \n",
      "3                   -0.179581                    0.457181   \n",
      "4                    0.214270                   -0.631461   \n",
      "5                    0.361577                   -0.943461   \n",
      "6                   -0.155698                   -0.220332   \n",
      "7                    0.164986                   -0.939924   \n",
      "8                   -1.484290                    2.696732   \n",
      "9                    0.529373                   -0.467649   \n",
      "\n",
      "   pcm_RMSenergy_sma_linregerrQ  ...  F0_sma_de_amean  F0_sma_de_linregc1  \\\n",
      "0                     -0.350634  ...        -0.250620            1.016287   \n",
      "1                     -0.350241  ...        -0.198841            0.522875   \n",
      "2                     -0.235583  ...         0.030145            0.758431   \n",
      "3                     -0.107086  ...        -0.149807            0.430202   \n",
      "4                     -0.171161  ...        -0.149807            0.430202   \n",
      "5                     -0.604487  ...        -0.250620            0.716551   \n",
      "6                     -0.144894  ...        -0.149807           -0.301208   \n",
      "7                     -0.634346  ...        -0.250620            1.016287   \n",
      "8                      0.747787  ...         4.452387            0.189268   \n",
      "9                     -0.201033  ...        -0.070915            0.912400   \n",
      "\n",
      "   F0_sma_de_linregc2  F0_sma_de_linregerrQ  F0_sma_de_stddev  \\\n",
      "0           -1.338645             -1.475744         -2.436488   \n",
      "1           -0.684549             -0.788438         -0.807426   \n",
      "2           -0.792464             -0.827173         -0.928305   \n",
      "3           -0.507284             -0.664599         -0.956093   \n",
      "4           -0.507284             -0.664599         -0.956093   \n",
      "5           -1.009930             -0.876872         -0.763660   \n",
      "6            0.365103              0.812307          1.104555   \n",
      "7           -1.338645             -1.475744         -2.436488   \n",
      "8            1.442682              4.541562          2.911730   \n",
      "9           -0.969307             -0.590595         -0.462439   \n",
      "\n",
      "   F0_sma_de_skewness  F0_sma_de_kurtosis  \\\n",
      "0           -0.146278           -1.592490   \n",
      "1           -0.013342            2.532505   \n",
      "2           -4.691219            2.494132   \n",
      "3            0.071990           -0.856998   \n",
      "4            0.071990           -0.856998   \n",
      "5           -0.027344            1.986869   \n",
      "6            1.120765            0.284290   \n",
      "7           -0.146278           -1.592490   \n",
      "8            0.284743           -0.489951   \n",
      "9            0.279028            0.106523   \n",
      "\n",
      "                                              file  speaker  emotion  \n",
      "0     gg_001_shame_2048.25_Ten-thousand-twelve.wav       gg    shame  \n",
      "1   mf_001_boredom_3041.49_Three-thousand-five.wav       mf  boredom  \n",
      "2  mm_001_anxiety_1306.80_three-thousand-eight.wav       mm  anxiety  \n",
      "3                cl_001_sadness_712.80_January.wav       cl  sadness  \n",
      "4    cl_001_boredom_1108.66_Eight-hundred-five.wav       cl  boredom  \n",
      "5      gg_001_pride_2160.01_March-twenty-fifth.wav       gg    pride  \n",
      "6           cl_001_happy_892.14_December-sixth.wav       cl    happy  \n",
      "7    gg_001_anxiety_824.23_Eight-hundred-eight.wav       gg  anxiety  \n",
      "8        cl_001_elation_828.41_September-fifth.wav       cl  elation  \n",
      "9       mk_001_sadness_1590.89_One-hundred-six.wav       mk  sadness  \n",
      "\n",
      "[10 rows x 386 columns]\n"
     ]
    }
   ],
   "source": [
    "print(f'first 10 rows\\n: {feat_df.head(10)}')"
   ]
  },
  {
   "cell_type": "markdown",
   "metadata": {
    "id": "SnWE18sZahBm"
   },
   "source": [
    "# Training\n"
   ]
  },
  {
   "cell_type": "code",
   "execution_count": 76,
   "metadata": {
    "colab": {
     "base_uri": "https://localhost:8080/",
     "height": 84
    },
    "id": "QEPs4PVwhpma",
    "outputId": "4fd501f9-5414-43b9-9001-893dfe087b2f"
   },
   "outputs": [
    {
     "data": {
      "text/html": [
       "<div>\n",
       "<style scoped>\n",
       "    .dataframe tbody tr th:only-of-type {\n",
       "        vertical-align: middle;\n",
       "    }\n",
       "\n",
       "    .dataframe tbody tr th {\n",
       "        vertical-align: top;\n",
       "    }\n",
       "\n",
       "    .dataframe thead th {\n",
       "        text-align: right;\n",
       "    }\n",
       "</style>\n",
       "<table border=\"1\" class=\"dataframe\">\n",
       "  <thead>\n",
       "    <tr style=\"text-align: right;\">\n",
       "      <th></th>\n",
       "      <th>0</th>\n",
       "    </tr>\n",
       "  </thead>\n",
       "  <tbody>\n",
       "  </tbody>\n",
       "</table>\n",
       "</div><br><label><b>dtype:</b> int64</label>"
      ],
      "text/plain": [
       "Series([], dtype: int64)"
      ]
     },
     "metadata": {},
     "output_type": "display_data"
    }
   ],
   "source": [
    "# Columns with NaNs\n",
    "nan_counts = feat_df.isna().sum()\n",
    "nan_counts = nan_counts[nan_counts > 0].sort_values(ascending=False)\n",
    "\n",
    "display(nan_counts)\n"
   ]
  },
  {
   "cell_type": "code",
   "execution_count": 83,
   "metadata": {
    "id": "NlY76xGFaxVf"
   },
   "outputs": [],
   "source": [
    "from sklearn.preprocessing import LabelEncoder\n",
    "from sklearn.metrics import accuracy_score, f1_score, classification_report\n",
    "from sklearn.ensemble import RandomForestClassifier\n",
    "from sklearn.feature_selection import SelectFromModel\n",
    "from sklearn.svm import SVC\n",
    "from sklearn.pipeline import Pipeline"
   ]
  },
  {
   "cell_type": "code",
   "execution_count": 84,
   "metadata": {
    "colab": {
     "base_uri": "https://localhost:8080/"
    },
    "id": "rTsWigNXbDk1",
    "outputId": "1f66d0bf-74dc-4942-cae8-9e292e955498"
   },
   "outputs": [
    {
     "name": "stdout",
     "output_type": "stream",
     "text": [
      "classes: ['anxiety', 'boredom', 'cold-anger', 'contempt', 'despair', 'disgust', 'elation', 'happy', 'hot-anger', 'interest', 'neutral', 'panic', 'pride', 'sadness', 'shame']\n"
     ]
    }
   ],
   "source": [
    "# label encoder for emotion\n",
    "le = LabelEncoder()\n",
    "feat_df['emo_id'] = le.fit_transform(feat_df['emotion'])\n",
    "print(\"classes:\", list(le.classes_))"
   ]
  },
  {
   "cell_type": "code",
   "execution_count": 85,
   "metadata": {
    "id": "XNjDhgtRcDXm"
   },
   "outputs": [],
   "source": [
    "meta_cols    = {'file', 'name', 'speaker', 'emotion', 'emo_id'}\n",
    "feature_cols = [c for c in feat_df.columns if c not in meta_cols]"
   ]
  },
  {
   "cell_type": "code",
   "execution_count": 86,
   "metadata": {
    "id": "PPTya0asbXGC"
   },
   "outputs": [],
   "source": [
    "# leave one out evaluation function\n",
    "def leave_one_out_evaluation(df: pd.DataFrame,\n",
    "              Xcols: list[str],\n",
    "              make_clf,\n",
    "              y_col: str = 'emo_id'):\n",
    "\n",
    "    per_speaker, tot_acc, tot_f1, tot_n = {}, 0.0, 0.0, 0\n",
    "    for speaker in sorted(df.speaker.unique()):\n",
    "\n",
    "        tr, te = df[df.speaker != speaker], df[df.speaker == speaker]\n",
    "\n",
    "        clf = make_clf()\n",
    "        clf.fit(tr[Xcols].values, tr[y_col].values)\n",
    "        y_hat  = clf.predict(te[Xcols].values).copy()\n",
    "        y_true = te[y_col].values.copy()\n",
    "        n = len(y_true)\n",
    "        acc = accuracy_score(y_true, y_hat)\n",
    "        wf1 = f1_score(y_true, y_hat, average='weighted')\n",
    "\n",
    "        # per speaker classification report\n",
    "        rep = classification_report(le.inverse_transform(y_true),\n",
    "                                    le.inverse_transform(y_hat),\n",
    "                                    digits=3)\n",
    "\n",
    "        per_speaker[speaker] = dict(\n",
    "            n = n,\n",
    "            acc = acc,\n",
    "            f1 = wf1,\n",
    "            y_true = y_true,\n",
    "            y_pred = y_hat,\n",
    "            report = rep\n",
    "        )\n",
    "\n",
    "        tot_acc += acc * n\n",
    "        tot_f1 += wf1 * n\n",
    "        tot_n += n\n",
    "\n",
    "    per_speaker['aggregate'] = dict(acc=tot_acc/tot_n,\n",
    "                                f1 =tot_f1/tot_n,\n",
    "                                n =tot_n)\n",
    "    return per_speaker"
   ]
  },
  {
   "cell_type": "code",
   "execution_count": 87,
   "metadata": {
    "id": "jlrNdaVpcY5H"
   },
   "outputs": [],
   "source": [
    "# rbf-svm classifier with random forest selector for feature ranking\n",
    "def make_svm_with_forest_selection():\n",
    "    forest = RandomForestClassifier(\n",
    "                   n_estimators = 100,\n",
    "                   class_weight = 'balanced',\n",
    "                   random_state = 42,\n",
    "                   n_jobs       = -1)\n",
    "\n",
    "    selector = SelectFromModel(estimator = forest,\n",
    "                               threshold = 'mean')\n",
    "\n",
    "    svm = SVC(kernel='rbf', C=10, gamma='scale',\n",
    "                   class_weight='balanced')\n",
    "\n",
    "    return Pipeline([\n",
    "        ('sel', selector),\n",
    "        ('clf', svm)\n",
    "    ])\n"
   ]
  },
  {
   "cell_type": "code",
   "execution_count": 88,
   "metadata": {
    "colab": {
     "base_uri": "https://localhost:8080/"
    },
    "id": "l-UovkDdY2CF",
    "outputId": "273a644e-19d4-455f-ba52-fd1752e5e29a"
   },
   "outputs": [
    {
     "name": "stderr",
     "output_type": "stream",
     "text": [
      "/usr/local/lib/python3.11/dist-packages/sklearn/metrics/_classification.py:1565: UndefinedMetricWarning: Precision is ill-defined and being set to 0.0 in labels with no predicted samples. Use `zero_division` parameter to control this behavior.\n",
      "  _warn_prf(average, modifier, f\"{metric.capitalize()} is\", len(result))\n",
      "/usr/local/lib/python3.11/dist-packages/sklearn/metrics/_classification.py:1565: UndefinedMetricWarning: Precision is ill-defined and being set to 0.0 in labels with no predicted samples. Use `zero_division` parameter to control this behavior.\n",
      "  _warn_prf(average, modifier, f\"{metric.capitalize()} is\", len(result))\n",
      "/usr/local/lib/python3.11/dist-packages/sklearn/metrics/_classification.py:1565: UndefinedMetricWarning: Precision is ill-defined and being set to 0.0 in labels with no predicted samples. Use `zero_division` parameter to control this behavior.\n",
      "  _warn_prf(average, modifier, f\"{metric.capitalize()} is\", len(result))\n",
      "/usr/local/lib/python3.11/dist-packages/sklearn/metrics/_classification.py:1565: UndefinedMetricWarning: Precision is ill-defined and being set to 0.0 in labels with no predicted samples. Use `zero_division` parameter to control this behavior.\n",
      "  _warn_prf(average, modifier, f\"{metric.capitalize()} is\", len(result))\n",
      "/usr/local/lib/python3.11/dist-packages/sklearn/metrics/_classification.py:1565: UndefinedMetricWarning: Precision is ill-defined and being set to 0.0 in labels with no predicted samples. Use `zero_division` parameter to control this behavior.\n",
      "  _warn_prf(average, modifier, f\"{metric.capitalize()} is\", len(result))\n",
      "/usr/local/lib/python3.11/dist-packages/sklearn/metrics/_classification.py:1565: UndefinedMetricWarning: Precision is ill-defined and being set to 0.0 in labels with no predicted samples. Use `zero_division` parameter to control this behavior.\n",
      "  _warn_prf(average, modifier, f\"{metric.capitalize()} is\", len(result))\n"
     ]
    },
    {
     "name": "stdout",
     "output_type": "stream",
     "text": [
      "\n",
      "report for speaker: cc\n",
      "              precision    recall  f1-score   support\n",
      "\n",
      "     anxiety      0.071     0.200     0.105        10\n",
      "     boredom      0.061     0.133     0.083        15\n",
      "  cold-anger      0.071     0.067     0.069        15\n",
      "    contempt      0.400     0.455     0.426        22\n",
      "     despair      0.091     0.222     0.129         9\n",
      "     disgust      0.400     0.258     0.314        31\n",
      "     elation      0.250     0.438     0.318        16\n",
      "       happy      0.286     0.261     0.273        23\n",
      "   hot-anger      0.435     0.714     0.541        14\n",
      "    interest      0.083     0.059     0.069        17\n",
      "     neutral      0.286     0.111     0.160        18\n",
      "       panic      0.455     0.278     0.345        18\n",
      "       pride      0.444     0.174     0.250        23\n",
      "     sadness      0.333     0.154     0.211        13\n",
      "       shame      0.500     0.143     0.222        21\n",
      "\n",
      "    accuracy                          0.245       265\n",
      "   macro avg      0.278     0.244     0.234       265\n",
      "weighted avg      0.306     0.245     0.249       265\n",
      "\n",
      "\n",
      "report for speaker: cl\n",
      "              precision    recall  f1-score   support\n",
      "\n",
      "     anxiety      0.194     0.333     0.246        21\n",
      "     boredom      0.298     0.483     0.368        29\n",
      "  cold-anger      0.458     0.407     0.431        27\n",
      "    contempt      0.357     0.400     0.377        25\n",
      "     despair      0.219     0.241     0.230        29\n",
      "     disgust      0.133     0.091     0.108        22\n",
      "     elation      0.200     0.222     0.211        27\n",
      "       happy      0.280     0.333     0.304        21\n",
      "   hot-anger      0.520     0.500     0.510        26\n",
      "    interest      0.346     0.346     0.346        26\n",
      "     neutral      0.000     0.000     0.000        17\n",
      "       panic      0.267     0.190     0.222        21\n",
      "       pride      0.308     0.167     0.216        24\n",
      "     sadness      0.111     0.074     0.089        27\n",
      "       shame      0.212     0.269     0.237        26\n",
      "\n",
      "    accuracy                          0.280       368\n",
      "   macro avg      0.260     0.271     0.260       368\n",
      "weighted avg      0.268     0.280     0.268       368\n",
      "\n",
      "\n",
      "report for speaker: gg\n",
      "              precision    recall  f1-score   support\n",
      "\n",
      "     anxiety      0.370     0.567     0.447        30\n",
      "     boredom      0.282     0.367     0.319        30\n",
      "  cold-anger      0.333     0.519     0.406        27\n",
      "    contempt      0.304     0.269     0.286        26\n",
      "     despair      0.000     0.000     0.000        28\n",
      "     disgust      0.611     0.216     0.319        51\n",
      "     elation      0.333     0.571     0.421        28\n",
      "       happy      0.259     0.500     0.341        30\n",
      "   hot-anger      0.769     0.455     0.571        22\n",
      "    interest      0.179     0.167     0.172        30\n",
      "     neutral      0.000     0.000     0.000         9\n",
      "       panic      0.550     0.407     0.468        27\n",
      "       pride      0.200     0.200     0.200        25\n",
      "     sadness      0.000     0.000     0.000        33\n",
      "       shame      0.200     0.208     0.204        24\n",
      "\n",
      "    accuracy                          0.302       420\n",
      "   macro avg      0.293     0.296     0.277       420\n",
      "weighted avg      0.313     0.302     0.286       420\n",
      "\n",
      "\n",
      "report for speaker: jg\n",
      "              precision    recall  f1-score   support\n",
      "\n",
      "     anxiety      0.120     0.158     0.136        19\n",
      "     boredom      0.176     0.214     0.194        14\n",
      "  cold-anger      0.182     0.182     0.182        22\n",
      "    contempt      0.227     0.217     0.222        23\n",
      "     despair      0.250     0.095     0.138        21\n",
      "     disgust      0.292     0.304     0.298        23\n",
      "     elation      0.133     0.100     0.114        20\n",
      "       happy      0.042     0.050     0.045        20\n",
      "   hot-anger      0.333     0.333     0.333        18\n",
      "    interest      0.381     0.421     0.400        19\n",
      "     neutral      0.000     0.000     0.000         8\n",
      "       panic      0.333     0.286     0.308        14\n",
      "       pride      0.000     0.000     0.000        18\n",
      "     sadness      0.273     0.316     0.293        19\n",
      "       shame      0.077     0.067     0.071        15\n",
      "\n",
      "    accuracy                          0.190       273\n",
      "   macro avg      0.188     0.183     0.182       273\n",
      "weighted avg      0.197     0.190     0.190       273\n",
      "\n",
      "\n",
      "report for speaker: mf\n",
      "              precision    recall  f1-score   support\n",
      "\n",
      "     anxiety      0.393     0.500     0.440        22\n",
      "     boredom      0.312     0.185     0.233        27\n",
      "  cold-anger      0.103     0.150     0.122        20\n",
      "    contempt      0.581     0.409     0.480        44\n",
      "     despair      0.269     0.438     0.333        16\n",
      "     disgust      0.053     1.000     0.100         1\n",
      "     elation      0.043     0.038     0.041        26\n",
      "       happy      0.143     0.087     0.108        23\n",
      "   hot-anger      0.556     0.476     0.513        21\n",
      "    interest      0.067     0.053     0.059        19\n",
      "     neutral      0.500     0.700     0.583        10\n",
      "       panic      0.471     0.667     0.552        12\n",
      "       pride      0.062     0.056     0.059        18\n",
      "     sadness      0.143     0.100     0.118        20\n",
      "       shame      0.368     0.350     0.359        20\n",
      "\n",
      "    accuracy                          0.281       299\n",
      "   macro avg      0.271     0.347     0.273       299\n",
      "weighted avg      0.296     0.281     0.279       299\n",
      "\n",
      "\n",
      "report for speaker: mk\n",
      "              precision    recall  f1-score   support\n",
      "\n",
      "     anxiety      0.048     0.069     0.056        29\n",
      "     boredom      0.160     0.200     0.178        20\n",
      "  cold-anger      0.154     0.261     0.194        23\n",
      "    contempt      0.176     0.286     0.218        21\n",
      "     despair      0.333     0.151     0.208        53\n",
      "     disgust      0.045     0.048     0.047        21\n",
      "     elation      0.211     0.348     0.262        23\n",
      "       happy      0.297     0.262     0.278        42\n",
      "   hot-anger      0.312     0.227     0.263        22\n",
      "    interest      0.357     0.227     0.278        44\n",
      "     neutral      1.000     0.500     0.667         8\n",
      "       panic      0.417     0.476     0.444        21\n",
      "       pride      0.059     0.043     0.050        23\n",
      "     sadness      0.087     0.091     0.089        22\n",
      "       shame      0.208     0.200     0.204        25\n",
      "\n",
      "    accuracy                          0.209       397\n",
      "   macro avg      0.258     0.226     0.229       397\n",
      "weighted avg      0.241     0.209     0.214       397\n",
      "\n",
      "\n",
      "report for speaker: mm\n",
      "              precision    recall  f1-score   support\n",
      "\n",
      "     anxiety      0.481     0.333     0.394        39\n",
      "     boredom      0.444     0.421     0.432        19\n",
      "  cold-anger      0.222     0.200     0.211        20\n",
      "    contempt      0.421     0.421     0.421        19\n",
      "     despair      0.147     0.278     0.192        18\n",
      "     disgust      0.200     0.130     0.158        23\n",
      "     elation      0.077     0.105     0.089        19\n",
      "       happy      0.316     0.667     0.429        18\n",
      "   hot-anger      0.692     0.562     0.621        16\n",
      "    interest      0.233     0.333     0.275        21\n",
      "     neutral      0.500     0.111     0.182         9\n",
      "       panic      0.500     0.143     0.222        28\n",
      "       pride      0.353     0.316     0.333        19\n",
      "     sadness      0.188     0.176     0.182        17\n",
      "       shame      0.333     0.412     0.368        17\n",
      "\n",
      "    accuracy                          0.305       302\n",
      "   macro avg      0.341     0.307     0.301       302\n",
      "weighted avg      0.345     0.305     0.303       302\n",
      "\n",
      "\n",
      "aggregated results:\n",
      "accuracy = 0.261\n",
      "weighted F1 = 0.257\n",
      "\n",
      "kept 128 / 382 features.\n"
     ]
    }
   ],
   "source": [
    "\n",
    "results = leave_one_out_evaluation(feat_df, feature_cols, make_svm_with_forest_selection)\n",
    "\n",
    "for speaker, info in results.items():\n",
    "    if speaker == 'aggregate':\n",
    "        continue\n",
    "    print(f\"\\nreport for speaker: {speaker}\")\n",
    "    print(info['report'])\n",
    "\n",
    "print(\"\\naggregated results:\")\n",
    "print(\"accuracy = {acc:.3f}\".format(acc=results['aggregate']['acc']))\n",
    "print(\"weighted F1 = {f1:.3f}\".format(f1=results['aggregate']['f1']))\n",
    "\n",
    "# number of features kept at last fold\n",
    "pipe_last = make_svm_with_forest_selection()\n",
    "pipe_last.fit(feat_df[feature_cols], feat_df['emo_id'])\n",
    "mask = pipe_last.named_steps['sel'].get_support()\n",
    "print(f\"\\nkept {mask.sum()} / {len(mask)} features.\")\n"
   ]
  },
  {
   "cell_type": "markdown",
   "metadata": {
    "id": "RlXrJ8FBI3B4"
   },
   "source": [
    "# Confusion Matrix"
   ]
  },
  {
   "cell_type": "code",
   "execution_count": 92,
   "metadata": {
    "colab": {
     "base_uri": "https://localhost:8080/",
     "height": 1000
    },
    "id": "CRfaAr1ZDZCi",
    "outputId": "c62a4f7a-e8a3-4b9d-a11e-13475e9088c8"
   },
   "outputs": [
    {
     "name": "stdout",
     "output_type": "stream",
     "text": [
      "best test speaker: mm \n",
      "\n"
     ]
    },
    {
     "data": {
      "image/png": "[encoded data removed]",
      "text/plain": [
       "<Figure size 1100x900 with 1 Axes>"
      ]
     },
     "metadata": {},
     "output_type": "display_data"
    },
    {
     "name": "stdout",
     "output_type": "stream",
     "text": [
      "\n",
      "per-class metrics (speaker mm)\n",
      "\n"
     ]
    },
    {
     "data": {
      "text/html": [
       "<style type=\"text/css\">\n",
       "</style>\n",
       "<table id=\"T_3f965\" class=\"dataframe\">\n",
       "  <thead>\n",
       "    <tr>\n",
       "      <th class=\"blank level0\" >&nbsp;</th>\n",
       "      <th id=\"T_3f965_level0_col0\" class=\"col_heading level0 col0\" >precision</th>\n",
       "      <th id=\"T_3f965_level0_col1\" class=\"col_heading level0 col1\" >recall</th>\n",
       "      <th id=\"T_3f965_level0_col2\" class=\"col_heading level0 col2\" >f1</th>\n",
       "      <th id=\"T_3f965_level0_col3\" class=\"col_heading level0 col3\" >support</th>\n",
       "      <th id=\"T_3f965_level0_col4\" class=\"col_heading level0 col4\" >top 5 confusions: </th>\n",
       "    </tr>\n",
       "  </thead>\n",
       "  <tbody>\n",
       "    <tr>\n",
       "      <th id=\"T_3f965_level0_row0\" class=\"row_heading level0 row0\" >anxiety</th>\n",
       "      <td id=\"T_3f965_row0_col0\" class=\"data row0 col0\" >0.481</td>\n",
       "      <td id=\"T_3f965_row0_col1\" class=\"data row0 col1\" >0.333</td>\n",
       "      <td id=\"T_3f965_row0_col2\" class=\"data row0 col2\" >0.394</td>\n",
       "      <td id=\"T_3f965_row0_col3\" class=\"data row0 col3\" >39</td>\n",
       "      <td id=\"T_3f965_row0_col4\" class=\"data row0 col4\" >interest, sadness, disgust, shame, boredom</td>\n",
       "    </tr>\n",
       "    <tr>\n",
       "      <th id=\"T_3f965_level0_row1\" class=\"row_heading level0 row1\" >boredom</th>\n",
       "      <td id=\"T_3f965_row1_col0\" class=\"data row1 col0\" >0.444</td>\n",
       "      <td id=\"T_3f965_row1_col1\" class=\"data row1 col1\" >0.421</td>\n",
       "      <td id=\"T_3f965_row1_col2\" class=\"data row1 col2\" >0.432</td>\n",
       "      <td id=\"T_3f965_row1_col3\" class=\"data row1 col3\" >19</td>\n",
       "      <td id=\"T_3f965_row1_col4\" class=\"data row1 col4\" >despair, sadness, disgust, cold-anger, shame</td>\n",
       "    </tr>\n",
       "    <tr>\n",
       "      <th id=\"T_3f965_level0_row2\" class=\"row_heading level0 row2\" >cold-anger</th>\n",
       "      <td id=\"T_3f965_row2_col0\" class=\"data row2 col0\" >0.222</td>\n",
       "      <td id=\"T_3f965_row2_col1\" class=\"data row2 col1\" >0.200</td>\n",
       "      <td id=\"T_3f965_row2_col2\" class=\"data row2 col2\" >0.211</td>\n",
       "      <td id=\"T_3f965_row2_col3\" class=\"data row2 col3\" >20</td>\n",
       "      <td id=\"T_3f965_row2_col4\" class=\"data row2 col4\" >contempt, despair, pride, happy, interest</td>\n",
       "    </tr>\n",
       "    <tr>\n",
       "      <th id=\"T_3f965_level0_row3\" class=\"row_heading level0 row3\" >contempt</th>\n",
       "      <td id=\"T_3f965_row3_col0\" class=\"data row3 col0\" >0.421</td>\n",
       "      <td id=\"T_3f965_row3_col1\" class=\"data row3 col1\" >0.421</td>\n",
       "      <td id=\"T_3f965_row3_col2\" class=\"data row3 col2\" >0.421</td>\n",
       "      <td id=\"T_3f965_row3_col3\" class=\"data row3 col3\" >19</td>\n",
       "      <td id=\"T_3f965_row3_col4\" class=\"data row3 col4\" >anxiety, pride, cold-anger, despair, sadness</td>\n",
       "    </tr>\n",
       "    <tr>\n",
       "      <th id=\"T_3f965_level0_row4\" class=\"row_heading level0 row4\" >despair</th>\n",
       "      <td id=\"T_3f965_row4_col0\" class=\"data row4 col0\" >0.147</td>\n",
       "      <td id=\"T_3f965_row4_col1\" class=\"data row4 col1\" >0.278</td>\n",
       "      <td id=\"T_3f965_row4_col2\" class=\"data row4 col2\" >0.192</td>\n",
       "      <td id=\"T_3f965_row4_col3\" class=\"data row4 col3\" >18</td>\n",
       "      <td id=\"T_3f965_row4_col4\" class=\"data row4 col4\" >shame, interest, anxiety, disgust, happy</td>\n",
       "    </tr>\n",
       "    <tr>\n",
       "      <th id=\"T_3f965_level0_row5\" class=\"row_heading level0 row5\" >disgust</th>\n",
       "      <td id=\"T_3f965_row5_col0\" class=\"data row5 col0\" >0.200</td>\n",
       "      <td id=\"T_3f965_row5_col1\" class=\"data row5 col1\" >0.130</td>\n",
       "      <td id=\"T_3f965_row5_col2\" class=\"data row5 col2\" >0.158</td>\n",
       "      <td id=\"T_3f965_row5_col3\" class=\"data row5 col3\" >23</td>\n",
       "      <td id=\"T_3f965_row5_col4\" class=\"data row5 col4\" >cold-anger, elation, boredom, anxiety, sadness</td>\n",
       "    </tr>\n",
       "    <tr>\n",
       "      <th id=\"T_3f965_level0_row6\" class=\"row_heading level0 row6\" >elation</th>\n",
       "      <td id=\"T_3f965_row6_col0\" class=\"data row6 col0\" >0.077</td>\n",
       "      <td id=\"T_3f965_row6_col1\" class=\"data row6 col1\" >0.105</td>\n",
       "      <td id=\"T_3f965_row6_col2\" class=\"data row6 col2\" >0.089</td>\n",
       "      <td id=\"T_3f965_row6_col3\" class=\"data row6 col3\" >19</td>\n",
       "      <td id=\"T_3f965_row6_col4\" class=\"data row6 col4\" >happy, panic, contempt, despair, hot-anger</td>\n",
       "    </tr>\n",
       "    <tr>\n",
       "      <th id=\"T_3f965_level0_row7\" class=\"row_heading level0 row7\" >happy</th>\n",
       "      <td id=\"T_3f965_row7_col0\" class=\"data row7 col0\" >0.316</td>\n",
       "      <td id=\"T_3f965_row7_col1\" class=\"data row7 col1\" >0.667</td>\n",
       "      <td id=\"T_3f965_row7_col2\" class=\"data row7 col2\" >0.429</td>\n",
       "      <td id=\"T_3f965_row7_col3\" class=\"data row7 col3\" >18</td>\n",
       "      <td id=\"T_3f965_row7_col4\" class=\"data row7 col4\" >elation, pride, panic, anxiety</td>\n",
       "    </tr>\n",
       "    <tr>\n",
       "      <th id=\"T_3f965_level0_row8\" class=\"row_heading level0 row8\" >hot-anger</th>\n",
       "      <td id=\"T_3f965_row8_col0\" class=\"data row8 col0\" >0.692</td>\n",
       "      <td id=\"T_3f965_row8_col1\" class=\"data row8 col1\" >0.562</td>\n",
       "      <td id=\"T_3f965_row8_col2\" class=\"data row8 col2\" >0.621</td>\n",
       "      <td id=\"T_3f965_row8_col3\" class=\"data row8 col3\" >16</td>\n",
       "      <td id=\"T_3f965_row8_col4\" class=\"data row8 col4\" >cold-anger, happy, panic</td>\n",
       "    </tr>\n",
       "    <tr>\n",
       "      <th id=\"T_3f965_level0_row9\" class=\"row_heading level0 row9\" >interest</th>\n",
       "      <td id=\"T_3f965_row9_col0\" class=\"data row9 col0\" >0.233</td>\n",
       "      <td id=\"T_3f965_row9_col1\" class=\"data row9 col1\" >0.333</td>\n",
       "      <td id=\"T_3f965_row9_col2\" class=\"data row9 col2\" >0.275</td>\n",
       "      <td id=\"T_3f965_row9_col3\" class=\"data row9 col3\" >21</td>\n",
       "      <td id=\"T_3f965_row9_col4\" class=\"data row9 col4\" >despair, happy, pride, disgust, sadness</td>\n",
       "    </tr>\n",
       "    <tr>\n",
       "      <th id=\"T_3f965_level0_row10\" class=\"row_heading level0 row10\" >neutral</th>\n",
       "      <td id=\"T_3f965_row10_col0\" class=\"data row10 col0\" >0.500</td>\n",
       "      <td id=\"T_3f965_row10_col1\" class=\"data row10 col1\" >0.111</td>\n",
       "      <td id=\"T_3f965_row10_col2\" class=\"data row10 col2\" >0.182</td>\n",
       "      <td id=\"T_3f965_row10_col3\" class=\"data row10 col3\" >9</td>\n",
       "      <td id=\"T_3f965_row10_col4\" class=\"data row10 col4\" >interest, sadness, anxiety, disgust</td>\n",
       "    </tr>\n",
       "    <tr>\n",
       "      <th id=\"T_3f965_level0_row11\" class=\"row_heading level0 row11\" >panic</th>\n",
       "      <td id=\"T_3f965_row11_col0\" class=\"data row11 col0\" >0.500</td>\n",
       "      <td id=\"T_3f965_row11_col1\" class=\"data row11 col1\" >0.143</td>\n",
       "      <td id=\"T_3f965_row11_col2\" class=\"data row11 col2\" >0.222</td>\n",
       "      <td id=\"T_3f965_row11_col3\" class=\"data row11 col3\" >28</td>\n",
       "      <td id=\"T_3f965_row11_col4\" class=\"data row11 col4\" >elation, hot-anger, happy, anxiety, cold-anger</td>\n",
       "    </tr>\n",
       "    <tr>\n",
       "      <th id=\"T_3f965_level0_row12\" class=\"row_heading level0 row12\" >pride</th>\n",
       "      <td id=\"T_3f965_row12_col0\" class=\"data row12 col0\" >0.353</td>\n",
       "      <td id=\"T_3f965_row12_col1\" class=\"data row12 col1\" >0.316</td>\n",
       "      <td id=\"T_3f965_row12_col2\" class=\"data row12 col2\" >0.333</td>\n",
       "      <td id=\"T_3f965_row12_col3\" class=\"data row12 col3\" >19</td>\n",
       "      <td id=\"T_3f965_row12_col4\" class=\"data row12 col4\" >despair, interest, happy, contempt, anxiety</td>\n",
       "    </tr>\n",
       "    <tr>\n",
       "      <th id=\"T_3f965_level0_row13\" class=\"row_heading level0 row13\" >sadness</th>\n",
       "      <td id=\"T_3f965_row13_col0\" class=\"data row13 col0\" >0.188</td>\n",
       "      <td id=\"T_3f965_row13_col1\" class=\"data row13 col1\" >0.176</td>\n",
       "      <td id=\"T_3f965_row13_col2\" class=\"data row13 col2\" >0.182</td>\n",
       "      <td id=\"T_3f965_row13_col3\" class=\"data row13 col3\" >17</td>\n",
       "      <td id=\"T_3f965_row13_col4\" class=\"data row13 col4\" >despair, interest, shame, disgust</td>\n",
       "    </tr>\n",
       "    <tr>\n",
       "      <th id=\"T_3f965_level0_row14\" class=\"row_heading level0 row14\" >shame</th>\n",
       "      <td id=\"T_3f965_row14_col0\" class=\"data row14 col0\" >0.333</td>\n",
       "      <td id=\"T_3f965_row14_col1\" class=\"data row14 col1\" >0.412</td>\n",
       "      <td id=\"T_3f965_row14_col2\" class=\"data row14 col2\" >0.368</td>\n",
       "      <td id=\"T_3f965_row14_col3\" class=\"data row14 col3\" >17</td>\n",
       "      <td id=\"T_3f965_row14_col4\" class=\"data row14 col4\" >boredom, disgust, anxiety, despair, interest</td>\n",
       "    </tr>\n",
       "  </tbody>\n",
       "</table>\n"
      ],
      "text/plain": [
       "<pandas.io.formats.style.Styler at 0x78b88e92fa10>"
      ]
     },
     "metadata": {},
     "output_type": "display_data"
    },
    {
     "name": "stdout",
     "output_type": "stream",
     "text": [
      "Overall accuracy   : 0.304635761589404\n",
      "Overall weighted F1: 0.303074163743047\n"
     ]
    }
   ],
   "source": [
    "# confusion matrix\n",
    "import seaborn as sns, matplotlib.pyplot as plt\n",
    "from sklearn.metrics import confusion_matrix, precision_recall_fscore_support, accuracy_score\n",
    "\n",
    "best_spk = max((s for s in results if s != 'aggregate'),\n",
    "               key=lambda s: results[s]['f1'])\n",
    "print(f\"best test speaker: {best_spk} \\n\")\n",
    "\n",
    "y_true = results[best_spk]['y_true']\n",
    "y_pred = results[best_spk]['y_pred']\n",
    "labels = list(le.classes_)\n",
    "\n",
    "cm = confusion_matrix(y_true, y_pred, labels=range(len(labels)))\n",
    "plt.figure(figsize=(11, 9))\n",
    "sns.heatmap(cm, cmap='Blues', fmt='d', annot=True, xticklabels=labels, yticklabels=labels, cbar=False, linewidths=.4)\n",
    "plt.title(f\"Confusion matrix – speaker {best_spk}\")\n",
    "plt.xlabel(\"Predicted label\"); plt.ylabel(\"True label\")\n",
    "plt.xticks(rotation=45, ha='right'); plt.yticks(rotation=0)\n",
    "plt.tight_layout()\n",
    "plt.show()\n",
    "\n",
    "# per class\n",
    "prec, rec, f1, supp = precision_recall_fscore_support(\n",
    "                        y_true, y_pred, labels=range(len(labels)),\n",
    "                        zero_division=0)\n",
    "prf_df = pd.DataFrame({'precision': prec.round(3),\n",
    "                       'recall'   : rec.round(3),\n",
    "                       'f1'       : f1.round(3),\n",
    "                       'support'  : supp},\n",
    "                      index=labels)\n",
    "\n",
    "# top 5 confusions\n",
    "conf_top = []\n",
    "for i, lab in enumerate(labels):\n",
    "    top_idx = np.argsort(cm[i])[::-1]\n",
    "    tops = [labels[j] for j in top_idx if j != i and cm[i, j] > 0][:5]\n",
    "    conf_top.append(', '.join(tops) if tops else '—')\n",
    "prf_df['top 5 confusions: '] = conf_top\n",
    "\n",
    "print(\"\\nper-class metrics (speaker %s)\\n\" % best_spk)\n",
    "display(prf_df.style.format({'precision': '{:.3f}',\n",
    "                             'recall':    '{:.3f}',\n",
    "                             'f1':        '{:.3f}'}))\n",
    "\n",
    "print(\"Overall accuracy   :\", accuracy_score(y_true, y_pred))\n",
    "print(\"Overall weighted F1:\", results[best_spk]['f1'])\n",
    "\n"
   ]
  }
 ],
 "metadata": {
  "accelerator": "GPU",
  "colab": {
   "gpuType": "A100",
   "machine_shape": "hm",
   "provenance": []
  },
  "kernelspec": {
   "display_name": "Python 3 (ipykernel)",
   "language": "python",
   "name": "python3"
  },
  "language_info": {
   "codemirror_mode": {
    "name": "ipython",
    "version": 3
   },
   "file_extension": ".py",
   "mimetype": "text/x-python",
   "name": "python",
   "nbconvert_exporter": "python",
   "pygments_lexer": "ipython3",
   "version": "3.9.13"
  }
 },
 "nbformat": 4,
 "nbformat_minor": 1
}
